{
 "cells": [
  {
   "cell_type": "code",
   "execution_count": null,
   "metadata": {},
   "outputs": [],
   "source": [
    "from quantbob import QuantBob\n",
    "bob = QuantBob()"
   ]
  },
  {
   "cell_type": "code",
   "execution_count": null,
   "metadata": {
    "scrolled": false
   },
   "outputs": [],
   "source": [
    "bob = QuantBob()\n",
    "bob"
   ]
  },
  {
   "cell_type": "code",
   "execution_count": null,
   "metadata": {
    "scrolled": true
   },
   "outputs": [],
   "source": [
    "#QuantBob().from_yamls(\"model_configs/\")"
   ]
  },
  {
   "cell_type": "code",
   "execution_count": 13,
   "metadata": {},
   "outputs": [
    {
     "name": "stdout",
     "output_type": "stream",
     "text": [
      "2412105\n",
      "241210\n"
     ]
    }
   ],
   "source": [
    "import pyarrow as pa\n",
    "from pyarrow import parquet\n",
    "from tqdm.auto import tqdm\n",
    "import sys\n",
    "\n",
    "F = parquet.ParquetFile(\"/tmp/numerai_data/numerai_training_data.parquet\")\n",
    "print(F.scan_contents())\n",
    "print(int(F.scan_contents() / 10))"
   ]
  },
  {
   "cell_type": "markdown",
   "metadata": {},
   "source": [
    "We select a random number of samples from 1+n eras (contiguous) and then try to generalize to 1 ears (contiguous). \n",
    "\n",
    "\n",
    "example:\n",
    "\n",
    "if batch_size = 32 and n = 4;\n",
    "train_batch =  8 samples from each of the 4 eras\n",
    "validation_batch = 32 samples from 1 future era\n",
    "then we select 32 samples from \n",
    "\n",
    "If T are train eras and V are validation eras\n",
    "\n",
    "------------> \n",
    "\n",
    "TTTTV"
   ]
  },
  {
   "cell_type": "code",
   "execution_count": 11,
   "metadata": {},
   "outputs": [
    {
     "name": "stdout",
     "output_type": "stream",
     "text": [
      "(50000, 1073)\n",
      "['0001' '0002' '0003' '0004' '0005' '0006' '0007' '0008' '0009' '0010'\n",
      " '0011' '0012' '0013' '0014' '0015' '0016' '0017' '0018' '0019' '0020'\n",
      " '0021']\n",
      "2070\n",
      "2405\n",
      "21\n",
      "4.2\n"
     ]
    }
   ],
   "source": [
    "\n",
    "for batch in F.iter_batches(batch_size=241210):\n",
    "    df = pa.Table.from_batches([batch]).to_pandas()\n",
    "    print(df.shape)\n",
    "    print(df[\"era\"].unique())\n",
    "    print(len(df[df[\"era\"] == '0001']))\n",
    "    print(len(df[df[\"era\"] == '0005']))\n",
    "    print(len(df[\"era\"].unique()))\n",
    "    print(len(df[\"era\"].unique()) / 5 ) \n",
    "    \n",
    "    break\n",
    "    #print(df.shape)\n",
    "    #print(len(df[\"era\"].unique()))\n",
    "    #print(len(df[\"era\"].unique()) / 5 ) \n",
    "    #break"
   ]
  },
  {
   "cell_type": "code",
   "execution_count": 16,
   "metadata": {},
   "outputs": [
    {
     "data": {
      "text/html": [
       "<div>\n",
       "<style scoped>\n",
       "    .dataframe tbody tr th:only-of-type {\n",
       "        vertical-align: middle;\n",
       "    }\n",
       "\n",
       "    .dataframe tbody tr th {\n",
       "        vertical-align: top;\n",
       "    }\n",
       "\n",
       "    .dataframe thead th {\n",
       "        text-align: right;\n",
       "    }\n",
       "</style>\n",
       "<table border=\"1\" class=\"dataframe\">\n",
       "  <thead>\n",
       "    <tr style=\"text-align: right;\">\n",
       "      <th></th>\n",
       "      <th>era</th>\n",
       "    </tr>\n",
       "    <tr>\n",
       "      <th>id</th>\n",
       "      <th></th>\n",
       "    </tr>\n",
       "  </thead>\n",
       "  <tbody>\n",
       "    <tr>\n",
       "      <th>n003bba8a98662e4</th>\n",
       "      <td>0001</td>\n",
       "    </tr>\n",
       "    <tr>\n",
       "      <th>n003bee128c2fcfc</th>\n",
       "      <td>0001</td>\n",
       "    </tr>\n",
       "    <tr>\n",
       "      <th>n0048ac83aff7194</th>\n",
       "      <td>0001</td>\n",
       "    </tr>\n",
       "    <tr>\n",
       "      <th>n00691bec80d3e02</th>\n",
       "      <td>0001</td>\n",
       "    </tr>\n",
       "    <tr>\n",
       "      <th>n00b8720a2fdc4f2</th>\n",
       "      <td>0001</td>\n",
       "    </tr>\n",
       "    <tr>\n",
       "      <th>...</th>\n",
       "      <td>...</td>\n",
       "    </tr>\n",
       "    <tr>\n",
       "      <th>nffcc1dbdf2212e6</th>\n",
       "      <td>0574</td>\n",
       "    </tr>\n",
       "    <tr>\n",
       "      <th>nffd71b7f6a128df</th>\n",
       "      <td>0574</td>\n",
       "    </tr>\n",
       "    <tr>\n",
       "      <th>nffde3b371d67394</th>\n",
       "      <td>0574</td>\n",
       "    </tr>\n",
       "    <tr>\n",
       "      <th>nfff1a1111b35e84</th>\n",
       "      <td>0574</td>\n",
       "    </tr>\n",
       "    <tr>\n",
       "      <th>nfff2bd38e397265</th>\n",
       "      <td>0574</td>\n",
       "    </tr>\n",
       "  </tbody>\n",
       "</table>\n",
       "<p>2412105 rows × 1 columns</p>\n",
       "</div>"
      ],
      "text/plain": [
       "                   era\n",
       "id                    \n",
       "n003bba8a98662e4  0001\n",
       "n003bee128c2fcfc  0001\n",
       "n0048ac83aff7194  0001\n",
       "n00691bec80d3e02  0001\n",
       "n00b8720a2fdc4f2  0001\n",
       "...                ...\n",
       "nffcc1dbdf2212e6  0574\n",
       "nffd71b7f6a128df  0574\n",
       "nffde3b371d67394  0574\n",
       "nfff1a1111b35e84  0574\n",
       "nfff2bd38e397265  0574\n",
       "\n",
       "[2412105 rows x 1 columns]"
      ]
     },
     "execution_count": 16,
     "metadata": {},
     "output_type": "execute_result"
    }
   ],
   "source": [
    "F.read(columns = [\"id\",\"era\"]).to_pandas()\n"
   ]
  },
  {
   "cell_type": "code",
   "execution_count": null,
   "metadata": {},
   "outputs": [],
   "source": [
    "F.metadata"
   ]
  },
  {
   "cell_type": "code",
   "execution_count": null,
   "metadata": {},
   "outputs": [],
   "source": [
    "F.schema"
   ]
  },
  {
   "cell_type": "code",
   "execution_count": null,
   "metadata": {},
   "outputs": [],
   "source": [
    "from quantbob import feature_preprocessing\n",
    "\n",
    "\n",
    "getattr(feature_preprocessing, \"PCA\")"
   ]
  },
  {
   "cell_type": "code",
   "execution_count": null,
   "metadata": {},
   "outputs": [],
   "source": [
    "from quantbob.hyperopt_setup import setup_preprocessing\n",
    "\n",
    "setup_preprocessing"
   ]
  },
  {
   "cell_type": "code",
   "execution_count": null,
   "metadata": {},
   "outputs": [],
   "source": [
    "def make_pipeline_maker(some_dict):\n",
    "    \n",
    "    def make_pipeline():\n",
    "        return some_dict\n",
    "\n",
    "    return make_pipeline"
   ]
  },
  {
   "cell_type": "code",
   "execution_count": null,
   "metadata": {},
   "outputs": [],
   "source": [
    "d = dict(hello=\"test\")\n",
    "f = make_pipeline_maker(d)\n",
    "f()"
   ]
  },
  {
   "cell_type": "code",
   "execution_count": null,
   "metadata": {},
   "outputs": [],
   "source": [
    "f()"
   ]
  },
  {
   "cell_type": "code",
   "execution_count": null,
   "metadata": {},
   "outputs": [],
   "source": [
    "import numpy\n",
    "\n",
    "speed = [0.05, 0.025, 0.8]\n",
    "\n",
    "print(numpy.mean(speed))\n",
    "print(numpy.std(speed))\n",
    "\n",
    "numpy.std(speed) / numpy.mean(speed)\n"
   ]
  }
 ],
 "metadata": {
  "kernelspec": {
   "display_name": "Python 3 (ipykernel)",
   "language": "python",
   "name": "python3"
  },
  "language_info": {
   "codemirror_mode": {
    "name": "ipython",
    "version": 3
   },
   "file_extension": ".py",
   "mimetype": "text/x-python",
   "name": "python",
   "nbconvert_exporter": "python",
   "pygments_lexer": "ipython3",
   "version": "3.8.10"
  },
  "metadata": {
   "interpreter": {
    "hash": "9ef5bd674ac13bcc5849f620fc9bd56558be1075f555c658d4c84edc3e409827"
   }
  }
 },
 "nbformat": 4,
 "nbformat_minor": 2
}
