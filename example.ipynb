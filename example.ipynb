{
 "cells": [
  {
   "cell_type": "code",
   "execution_count": 1,
   "metadata": {},
   "outputs": [],
   "source": [
    "from quantbob.dataset import NumerAIDataset\n",
    "from quantbob.cv import SlidingTimeCV "
   ]
  },
  {
   "cell_type": "code",
   "execution_count": 2,
   "metadata": {},
   "outputs": [],
   "source": [
    "dataset = NumerAIDataset()"
   ]
  },
  {
   "cell_type": "code",
   "execution_count": 3,
   "metadata": {},
   "outputs": [
    {
     "name": "stdout",
     "output_type": "stream",
     "text": [
      "✔ Loading train data⠙ Loading train data⠹ Loading train data⠸ Loading train data⠼ Loading train data⠴ Loading train data⠦ Loading train data⠧ Loading train data⠇ Loading train data⠏ Loading train data⠋ Loading train data⠙ Loading train data⠹ Loading train data⠸ Loading train data⠼ Loading train data⠴ Loading train data⠦ Loading train data⠧ Loading train data⠇ Loading train data⠏ Loading train data⠋ Loading train data⠙ Loading train data⠹ Loading train data⠸ Loading train data⠼ Loading train data⠴ Loading train data⠦ Loading train data⠧ Loading train data⠇ Loading train data⠏ Loading train data⠋ Loading train data⠙ Loading train data⠹ Loading train data⠸ Loading train data⠼ Loading train data⠴ Loading train data⠦ Loading train data⠧ Loading train data⠇ Loading train data⠏ Loading train data⠋ Loading train data⠙ Loading train data⠹ Loading train data⠸ Loading train data⠼ Loading train data⠴ Loading train data⠦ Loading train data⠧ Loading train data⠇ Loading train data⠏ Loading train data⠋ Loading train data⠙ Loading train data⠹ Loading train data⠸ Loading train data⠼ Loading train data⠴ Loading train data⠦ Loading train data⠧ Loading train data⠇ Loading train data⠏ Loading train data⠋ Loading train data⠙ Loading train data⠹ Loading train data⠸ Loading train data⠼ Loading train data⠴ Loading train data⠦ Loading train data⠧ Loading train data⠇ Loading train data⠏ Loading train data⠋ Loading train data⠙ Loading train data⠹ Loading train data⠸ Loading train data⠼ Loading train data⠴ Loading train data⠦ Loading train data⠧ Loading train data⠇ Loading train data⠏ Loading train data⠋ Loading train data⠙ Loading train data⠹ Loading train data⠸ Loading train data⠼ Loading train data⠴ Loading train data⠦ Loading train data⠧ Loading train data⠇ Loading train data⠏ Loading train data⠋ Loading train data⠙ Loading train data⠹ Loading train data⠸ Loading train data⠼ Loading train data⠴ Loading train data⠦ Loading train data⠧ Loading train data⠇ Loading train data⠏ Loading train data⠋ Loading train data⠙ Loading train data⠹ Loading train data⠸ Loading train data⠼ Loading train data⠴ Loading train data⠦ Loading train data⠧ Loading train data⠇ Loading train data⠏ Loading train data⠋ Loading train data⠙ Loading train data⠹ Loading train data⠸ Loading train data⠼ Loading train data⠴ Loading train data⠦ Loading train data⠧ Loading train data⠇ Loading train data⠏ Loading train data⠋ Loading train data⠙ Loading train data⠹ Loading train data⠸ Loading train data⠼ Loading train data⠴ Loading train data⠦ Loading train data⠧ Loading train data⠇ Loading train data⠏ Loading train data⠋ Loading train data⠙ Loading train data⠹ Loading train data⠸ Loading train data⠼ Loading train data⠴ Loading train data⠦ Loading train data⠧ Loading train data⠇ Loading train data⠏ Loading train data⠋ Loading train data⠙ Loading train data⠹ Loading train data⠸ Loading train data⠼ Loading train data⠴ Loading train data⠦ Loading train data⠧ Loading train data⠇ Loading train data⠏ Loading train data⠋ Loading train data⠙ Loading train data⠹ Loading train data⠸ Loading train data⠼ Loading train data⠴ Loading train data⠦ Loading train data⠧ Loading train data⠇ Loading train data⠏ Loading train data⠋ Loading train data⠙ Loading train data⠹ Loading train data⠸ Loading train data⠼ Loading train data⠴ Loading train data⠦ Loading train data⠧ Loading train data⠇ Loading train data⠏ Loading train data⠋ Loading train data⠙ Loading train data⠹ Loading train data⠸ Loading train data⠼ Loading train data⠴ Loading train data⠦ Loading train data⠧ Loading train data⠇ Loading train data⠏ Loading train data⠋ Loading train data⠙ Loading train data⠹ Loading train data⠸ Loading train data⠼ Loading train data⠴ Loading train data⠦ Loading train data⠧ Loading train data⠇ Loading train data⠏ Loading train data⠋ Loading train data⠙ Loading train data⠹ Loading train data⠸ Loading train data⠼ Loading train data⠴ Loading train data⠦ Loading train data⠧ Loading train data⠇ Loading train data⠏ Loading train data⠋ Loading train data⠙ Loading train data⠹ Loading train data⠸ Loading train data⠼ Loading train data⠴ Loading train data⠦ Loading train data⠧ Loading train data⠇ Loading train data⠏ Loading train data⠋ Loading train data⠙ Loading train data⠹ Loading train data⠸ Loading train data⠼ Loading train data⠴ Loading train data⠦ Loading train data⠧ Loading train data⠇ Loading train data⠏ Loading train data⠋ Loading train data⠙ Loading train data⠹ Loading train data⠸ Loading train data⠼ Loading train data⠴ Loading train data⠦ Loading train data⠧ Loading train data⠇ Loading train data⠏ Loading train data⠋ Loading train data⠙ Loading train data⠹ Loading train data⠸ Loading train data⠼ Loading train data⠴ Loading train data⠦ Loading train data⠧ Loading train data⠇ Loading train data⠏ Loading train data⠋ Loading train data⠙ Loading train data⠹ Loading train data⠸ Loading train data⠼ Loading train data⠴ Loading train data⠦ Loading train data⠧ Loading train data⠇ Loading train data⠏ Loading train data⠋ Loading train data⠙ Loading train data⠹ Loading train data⠸ Loading train data⠼ Loading train data⠴ Loading train data⠦ Loading train data⠧ Loading train data⠇ Loading train data⠏ Loading train data⠋ Loading train data⠙ Loading train data⠹ Loading train data⠸ Loading train data⠼ Loading train data Loading train data\n"
     ]
    },
    {
     "ename": "AttributeError",
     "evalue": "'SlidingTimeCV' object has no attribute 'df'",
     "output_type": "error",
     "traceback": [
      "\u001b[0;31m---------------------------------------------------------------------------\u001b[0m",
      "\u001b[0;31mAttributeError\u001b[0m                            Traceback (most recent call last)",
      "\u001b[0;32m<ipython-input-3-0c53566dfaac>\u001b[0m in \u001b[0;36m<module>\u001b[0;34m\u001b[0m\n\u001b[0;32m----> 1\u001b[0;31m \u001b[0mcv\u001b[0m \u001b[0;34m=\u001b[0m \u001b[0mSlidingTimeCV\u001b[0m\u001b[0;34m(\u001b[0m\u001b[0mdf\u001b[0m \u001b[0;34m=\u001b[0m \u001b[0mdataset\u001b[0m\u001b[0;34m.\u001b[0m\u001b[0mtrain_data\u001b[0m\u001b[0;34m,\u001b[0m \u001b[0mcv\u001b[0m \u001b[0;34m=\u001b[0m \u001b[0;36m3\u001b[0m\u001b[0;34m)\u001b[0m\u001b[0;34m\u001b[0m\u001b[0;34m\u001b[0m\u001b[0m\n\u001b[0m",
      "\u001b[0;32m~/projects/QuantBob/quantbob/cv.py\u001b[0m in \u001b[0;36m__init__\u001b[0;34m(self, *args, **kwargs)\u001b[0m\n\u001b[1;32m    119\u001b[0m \u001b[0;34m\u001b[0m\u001b[0m\n\u001b[1;32m    120\u001b[0m     \u001b[0;32mdef\u001b[0m \u001b[0m__init__\u001b[0m\u001b[0;34m(\u001b[0m\u001b[0mself\u001b[0m\u001b[0;34m,\u001b[0m \u001b[0;34m*\u001b[0m\u001b[0margs\u001b[0m\u001b[0;34m,\u001b[0m \u001b[0;34m**\u001b[0m\u001b[0mkwargs\u001b[0m\u001b[0;34m)\u001b[0m \u001b[0;34m->\u001b[0m \u001b[0;32mNone\u001b[0m\u001b[0;34m:\u001b[0m\u001b[0;34m\u001b[0m\u001b[0;34m\u001b[0m\u001b[0m\n\u001b[0;32m--> 121\u001b[0;31m         \u001b[0msuper\u001b[0m\u001b[0;34m(\u001b[0m\u001b[0;34m)\u001b[0m\u001b[0;34m.\u001b[0m\u001b[0m__init__\u001b[0m\u001b[0;34m(\u001b[0m\u001b[0;34m*\u001b[0m\u001b[0margs\u001b[0m\u001b[0;34m,\u001b[0m \u001b[0;34m**\u001b[0m\u001b[0mkwargs\u001b[0m\u001b[0;34m)\u001b[0m\u001b[0;34m\u001b[0m\u001b[0;34m\u001b[0m\u001b[0m\n\u001b[0m\u001b[1;32m    122\u001b[0m \u001b[0;34m\u001b[0m\u001b[0m\n\u001b[1;32m    123\u001b[0m \u001b[0;34m\u001b[0m\u001b[0m\n",
      "\u001b[0;32m~/projects/QuantBob/quantbob/cv.py\u001b[0m in \u001b[0;36m__init__\u001b[0;34m(self, df, cv, remove_leakage)\u001b[0m\n\u001b[1;32m     28\u001b[0m \u001b[0;34m\u001b[0m\u001b[0m\n\u001b[1;32m     29\u001b[0m         \u001b[0;31m# set eras as columns\u001b[0m\u001b[0;34m\u001b[0m\u001b[0;34m\u001b[0m\u001b[0;34m\u001b[0m\u001b[0m\n\u001b[0;32m---> 30\u001b[0;31m         \u001b[0mself\u001b[0m\u001b[0;34m.\u001b[0m\u001b[0mdf\u001b[0m\u001b[0;34m[\u001b[0m\u001b[0;34m\"era\"\u001b[0m\u001b[0;34m]\u001b[0m \u001b[0;34m=\u001b[0m \u001b[0mdf\u001b[0m\u001b[0;34m[\u001b[0m\u001b[0;34m\"era\"\u001b[0m\u001b[0;34m]\u001b[0m\u001b[0;34m.\u001b[0m\u001b[0mastype\u001b[0m\u001b[0;34m(\u001b[0m\u001b[0mint\u001b[0m\u001b[0;34m)\u001b[0m\u001b[0;34m\u001b[0m\u001b[0;34m\u001b[0m\u001b[0m\n\u001b[0m\u001b[1;32m     31\u001b[0m         \u001b[0mself\u001b[0m\u001b[0;34m.\u001b[0m\u001b[0mdf\u001b[0m \u001b[0;34m=\u001b[0m \u001b[0mdf\u001b[0m\u001b[0;34m.\u001b[0m\u001b[0mset_index\u001b[0m\u001b[0;34m(\u001b[0m\u001b[0;34m\"era\"\u001b[0m\u001b[0;34m)\u001b[0m\u001b[0;34m\u001b[0m\u001b[0;34m\u001b[0m\u001b[0m\n\u001b[1;32m     32\u001b[0m \u001b[0;34m\u001b[0m\u001b[0m\n",
      "\u001b[0;31mAttributeError\u001b[0m: 'SlidingTimeCV' object has no attribute 'df'"
     ]
    },
    {
     "name": "stdout",
     "output_type": "stream",
     "text": [
      "\r"
     ]
    }
   ],
   "source": [
    "cv = SlidingTimeCV(df = dataset.train_data, cv = 3)"
   ]
  },
  {
   "cell_type": "code",
   "execution_count": null,
   "metadata": {},
   "outputs": [],
   "source": []
  }
 ],
 "metadata": {
  "kernelspec": {
   "display_name": "Python 3",
   "language": "python",
   "name": "python3"
  },
  "language_info": {
   "codemirror_mode": {
    "name": "ipython",
    "version": 3
   },
   "file_extension": ".py",
   "mimetype": "text/x-python",
   "name": "python",
   "nbconvert_exporter": "python",
   "pygments_lexer": "ipython3",
   "version": "3.7.4"
  },
  "metadata": {
   "interpreter": {
    "hash": "9ef5bd674ac13bcc5849f620fc9bd56558be1075f555c658d4c84edc3e409827"
   }
  }
 },
 "nbformat": 4,
 "nbformat_minor": 2
}
