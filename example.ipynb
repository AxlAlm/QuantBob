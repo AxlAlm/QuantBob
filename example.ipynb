{
 "cells": [
  {
   "cell_type": "code",
   "execution_count": 18,
   "metadata": {},
   "outputs": [
    {
     "name": "stderr",
     "output_type": "stream",
     "text": [
      "\u001b[32m[I 2022-03-19 09:06:37,896]\u001b[0m A new study created in memory with name: pl_ddp\u001b[0m\n",
      "\u001b[32m[I 2022-03-19 09:06:37,900]\u001b[0m Trial 0 finished with value: 0.06 and parameters: {}. Best is trial 0 with value: 0.06.\u001b[0m\n",
      "\u001b[32m[I 2022-03-19 09:06:37,902]\u001b[0m Trial 1 pruned. \u001b[0m\n",
      "\u001b[32m[I 2022-03-19 09:06:37,904]\u001b[0m Trial 2 finished with value: 0.16333333333333333 and parameters: {}. Best is trial 2 with value: 0.16333333333333333.\u001b[0m\n",
      "\u001b[32m[I 2022-03-19 09:06:37,906]\u001b[0m Trial 3 pruned. \u001b[0m\n",
      "\u001b[32m[I 2022-03-19 09:06:37,909]\u001b[0m Trial 4 pruned. \u001b[0m\n"
     ]
    }
   ],
   "source": [
    "import optuna\n",
    "import random\n",
    "import numpy as np\n",
    "\n",
    "def cv_pruning(trial, score, cv_i) -> None:\n",
    "    \"\"\"\n",
    "    Function to check if a trial\n",
    "\n",
    "    \"\"\"\n",
    "    # skip first trail\n",
    "    #print(trial.study.get_trials())\n",
    "    if len(trial.study.get_trials()) == 1:\n",
    "        return False\n",
    "\n",
    "    # each split at i needs to be better than\n",
    "    # best trial at i\n",
    "    best_values = trial.study.best_trial.intermediate_values\n",
    "    is_worse = (1 - (score / best_values[cv_i]))  > 0.05\n",
    "    \n",
    "   \n",
    "    # each trial also needs to be stable, hence have a standard deviation \n",
    "    # of less than \n",
    "    trial_values =  list(trial.storage.get_trial(trial._trial_id).intermediate_values.values())\n",
    "    std = np.std(np.array(trial_values))\n",
    "    is_unstable = std > 0.1\n",
    "    \n",
    "    if any([is_worse, is_unstable]):\n",
    "        raise optuna.TrialPruned()\n",
    "\n",
    "\n",
    "def objective(trial):\n",
    "    #print(trial.study.trials_dataframe())\n",
    "    #print(trial.study.get_trials())\n",
    "    #print(trial.study.get_trials())\n",
    "\n",
    "    \n",
    "    scores = []\n",
    "    for i in range(3):\n",
    "        score = random.randint(0,100) / 100\n",
    "        \n",
    "        trial.report(score, step=i)\n",
    "        \n",
    "        cv_pruning(trial, score, i) \n",
    "        \n",
    "        scores.append(score)\n",
    "        \n",
    "    return np.mean(scores)\n",
    "\n",
    "\n",
    "study = optuna.create_study(\n",
    "    study_name=\"pl_ddp\",\n",
    "    direction=\"maximize\",\n",
    ")\n",
    "\n",
    "study.optimize(objective, n_trials=5)\n",
    "trial = study.best_trial\n",
    "    "
   ]
  },
  {
   "cell_type": "code",
   "execution_count": 9,
   "metadata": {},
   "outputs": [
    {
     "data": {
      "text/plain": [
       "tensor(0.5614)"
      ]
     },
     "execution_count": 9,
     "metadata": {},
     "output_type": "execute_result"
    }
   ],
   "source": [
    "import torch\n",
    "from quantbob.utils.evaluation import spearmans\n",
    "\n",
    "\n",
    "x = torch.rand(10).unsqueeze(0)\n",
    "y = torch.rand(10).unsqueeze(0)\n",
    "\n",
    "spearmans(x, y)"
   ]
  },
  {
   "cell_type": "code",
   "execution_count": 10,
   "metadata": {},
   "outputs": [],
   "source": [
    "is_much_worse = (1 - (-0.4 / 0.4))  > 0.05"
   ]
  },
  {
   "cell_type": "code",
   "execution_count": 19,
   "metadata": {},
   "outputs": [
    {
     "data": {
      "text/plain": [
       "0.0"
      ]
     },
     "execution_count": 19,
     "metadata": {},
     "output_type": "execute_result"
    }
   ],
   "source": [
    "np.std(np.array([0.4]))"
   ]
  },
  {
   "cell_type": "code",
   "execution_count": 23,
   "metadata": {},
   "outputs": [
    {
     "data": {
      "text/plain": [
       "'856eab2b89af57dd0b6b01d2bc02cae306fda332d5ac92f4012815da01cd1634'"
      ]
     },
     "execution_count": 23,
     "metadata": {},
     "output_type": "execute_result"
    }
   ],
   "source": [
    "import hashlib\n",
    "l = {\"somet\":0.4, \"okok\":\"okok\"}\n",
    "hashlib.sha256(str(l).encode()).hexdigest()"
   ]
  },
  {
   "cell_type": "code",
   "execution_count": null,
   "metadata": {},
   "outputs": [],
   "source": []
  }
 ],
 "metadata": {
  "kernelspec": {
   "display_name": "Python 3 (ipykernel)",
   "language": "python",
   "name": "python3"
  },
  "language_info": {
   "codemirror_mode": {
    "name": "ipython",
    "version": 3
   },
   "file_extension": ".py",
   "mimetype": "text/x-python",
   "name": "python",
   "nbconvert_exporter": "python",
   "pygments_lexer": "ipython3",
   "version": "3.8.10"
  },
  "metadata": {
   "interpreter": {
    "hash": "9ef5bd674ac13bcc5849f620fc9bd56558be1075f555c658d4c84edc3e409827"
   }
  }
 },
 "nbformat": 4,
 "nbformat_minor": 2
}
