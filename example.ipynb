{
 "cells": [
  {
   "cell_type": "code",
   "execution_count": 17,
   "metadata": {},
   "outputs": [
    {
     "ename": "ImportError",
     "evalue": "cannot import name 'validation_metrics' from 'quantbob.evaluation' (/Users/xalmax/projects/QuantBob/quantbob/evaluation.py)",
     "output_type": "error",
     "traceback": [
      "\u001b[0;31m---------------------------------------------------------------------------\u001b[0m",
      "\u001b[0;31mImportError\u001b[0m                               Traceback (most recent call last)",
      "\u001b[0;32m<ipython-input-17-9f0455f133e2>\u001b[0m in \u001b[0;36m<module>\u001b[0;34m\u001b[0m\n\u001b[1;32m      2\u001b[0m \u001b[0;32mfrom\u001b[0m \u001b[0mquantbob\u001b[0m\u001b[0;34m.\u001b[0m\u001b[0mmodels\u001b[0m \u001b[0;32mimport\u001b[0m \u001b[0mBasicEnsambler\u001b[0m\u001b[0;34m\u001b[0m\u001b[0;34m\u001b[0m\u001b[0m\n\u001b[1;32m      3\u001b[0m \u001b[0;32mfrom\u001b[0m \u001b[0msklearn\u001b[0m\u001b[0;34m.\u001b[0m\u001b[0mensemble\u001b[0m \u001b[0;32mimport\u001b[0m \u001b[0mGradientBoostingRegressor\u001b[0m\u001b[0;34m\u001b[0m\u001b[0;34m\u001b[0m\u001b[0m\n\u001b[0;32m----> 4\u001b[0;31m \u001b[0;32mfrom\u001b[0m \u001b[0mquantbob\u001b[0m\u001b[0;34m.\u001b[0m\u001b[0mevaluation\u001b[0m \u001b[0;32mimport\u001b[0m \u001b[0mvalidation_metrics\u001b[0m\u001b[0;34m\u001b[0m\u001b[0;34m\u001b[0m\u001b[0m\n\u001b[0m",
      "\u001b[0;31mImportError\u001b[0m: cannot import name 'validation_metrics' from 'quantbob.evaluation' (/Users/xalmax/projects/QuantBob/quantbob/evaluation.py)"
     ]
    },
    {
     "name": "stdout",
     "output_type": "stream",
     "text": []
    }
   ],
   "source": [
    "from quantbob import Dataset\n",
    "from quantbob.models import BasicEnsambler\n",
    "from sklearn.ensemble import GradientBoostingRegressor\n",
    "from quantbob.evaluation import validation_metrics"
   ]
  },
  {
   "cell_type": "code",
   "execution_count": 2,
   "metadata": {},
   "outputs": [
    {
     "name": "stdout",
     "output_type": "stream",
     "text": [
      "✔ Loading train data\n",
      "✔ Loading val data\n",
      "✔ Loading tournament data\n"
     ]
    }
   ],
   "source": [
    "dataset = Dataset()"
   ]
  },
  {
   "cell_type": "code",
   "execution_count": 3,
   "metadata": {},
   "outputs": [
    {
     "data": {
      "text/html": "<div>\n<style scoped>\n    .dataframe tbody tr th:only-of-type {\n        vertical-align: middle;\n    }\n\n    .dataframe tbody tr th {\n        vertical-align: top;\n    }\n\n    .dataframe thead th {\n        text-align: right;\n    }\n</style>\n<table border=\"1\" class=\"dataframe\">\n  <thead>\n    <tr style=\"text-align: right;\">\n      <th></th>\n      <th>era</th>\n      <th>data_type</th>\n      <th>feature_dichasial_hammier_spawner</th>\n      <th>feature_rheumy_epistemic_prancer</th>\n      <th>feature_pert_performative_hormuz</th>\n      <th>feature_hillier_unpitied_theobromine</th>\n      <th>feature_perigean_bewitching_thruster</th>\n      <th>feature_renegade_undomestic_milord</th>\n      <th>feature_koranic_rude_corf</th>\n      <th>feature_demisable_expiring_millepede</th>\n      <th>...</th>\n      <th>target_paul_20</th>\n      <th>target_paul_60</th>\n      <th>target_george_20</th>\n      <th>target_george_60</th>\n      <th>target_william_20</th>\n      <th>target_william_60</th>\n      <th>target_arthur_20</th>\n      <th>target_arthur_60</th>\n      <th>target_thomas_20</th>\n      <th>target_thomas_60</th>\n    </tr>\n    <tr>\n      <th>id</th>\n      <th></th>\n      <th></th>\n      <th></th>\n      <th></th>\n      <th></th>\n      <th></th>\n      <th></th>\n      <th></th>\n      <th></th>\n      <th></th>\n      <th></th>\n      <th></th>\n      <th></th>\n      <th></th>\n      <th></th>\n      <th></th>\n      <th></th>\n      <th></th>\n      <th></th>\n      <th></th>\n      <th></th>\n    </tr>\n  </thead>\n  <tbody>\n    <tr>\n      <th>n003bba8a98662e4</th>\n      <td>0001</td>\n      <td>train</td>\n      <td>1.00</td>\n      <td>0.50</td>\n      <td>1.00</td>\n      <td>1.00</td>\n      <td>0.00</td>\n      <td>0.00</td>\n      <td>1.00</td>\n      <td>1.00</td>\n      <td>...</td>\n      <td>0.25</td>\n      <td>0.25</td>\n      <td>0.25</td>\n      <td>0.00</td>\n      <td>0.166667</td>\n      <td>0.000000</td>\n      <td>0.166667</td>\n      <td>0.000000</td>\n      <td>0.166667</td>\n      <td>0.000000</td>\n    </tr>\n    <tr>\n      <th>n003bee128c2fcfc</th>\n      <td>0001</td>\n      <td>train</td>\n      <td>0.50</td>\n      <td>1.00</td>\n      <td>0.25</td>\n      <td>0.75</td>\n      <td>0.00</td>\n      <td>0.75</td>\n      <td>0.50</td>\n      <td>0.75</td>\n      <td>...</td>\n      <td>1.00</td>\n      <td>1.00</td>\n      <td>1.00</td>\n      <td>1.00</td>\n      <td>0.833333</td>\n      <td>0.666667</td>\n      <td>0.833333</td>\n      <td>0.666667</td>\n      <td>0.833333</td>\n      <td>0.666667</td>\n    </tr>\n    <tr>\n      <th>n0048ac83aff7194</th>\n      <td>0001</td>\n      <td>train</td>\n      <td>0.50</td>\n      <td>0.25</td>\n      <td>0.75</td>\n      <td>0.00</td>\n      <td>0.75</td>\n      <td>0.00</td>\n      <td>0.75</td>\n      <td>0.75</td>\n      <td>...</td>\n      <td>0.50</td>\n      <td>0.25</td>\n      <td>0.25</td>\n      <td>0.25</td>\n      <td>0.500000</td>\n      <td>0.333333</td>\n      <td>0.500000</td>\n      <td>0.333333</td>\n      <td>0.500000</td>\n      <td>0.333333</td>\n    </tr>\n    <tr>\n      <th>n00691bec80d3e02</th>\n      <td>0001</td>\n      <td>train</td>\n      <td>1.00</td>\n      <td>0.50</td>\n      <td>0.50</td>\n      <td>0.75</td>\n      <td>0.00</td>\n      <td>1.00</td>\n      <td>0.25</td>\n      <td>1.00</td>\n      <td>...</td>\n      <td>0.50</td>\n      <td>0.50</td>\n      <td>0.50</td>\n      <td>0.50</td>\n      <td>0.666667</td>\n      <td>0.500000</td>\n      <td>0.500000</td>\n      <td>0.500000</td>\n      <td>0.666667</td>\n      <td>0.500000</td>\n    </tr>\n    <tr>\n      <th>n00b8720a2fdc4f2</th>\n      <td>0001</td>\n      <td>train</td>\n      <td>1.00</td>\n      <td>0.75</td>\n      <td>1.00</td>\n      <td>1.00</td>\n      <td>0.00</td>\n      <td>0.00</td>\n      <td>1.00</td>\n      <td>0.50</td>\n      <td>...</td>\n      <td>0.50</td>\n      <td>0.50</td>\n      <td>0.50</td>\n      <td>0.50</td>\n      <td>0.666667</td>\n      <td>0.500000</td>\n      <td>0.500000</td>\n      <td>0.500000</td>\n      <td>0.666667</td>\n      <td>0.500000</td>\n    </tr>\n    <tr>\n      <th>...</th>\n      <td>...</td>\n      <td>...</td>\n      <td>...</td>\n      <td>...</td>\n      <td>...</td>\n      <td>...</td>\n      <td>...</td>\n      <td>...</td>\n      <td>...</td>\n      <td>...</td>\n      <td>...</td>\n      <td>...</td>\n      <td>...</td>\n      <td>...</td>\n      <td>...</td>\n      <td>...</td>\n      <td>...</td>\n      <td>...</td>\n      <td>...</td>\n      <td>...</td>\n      <td>...</td>\n    </tr>\n    <tr>\n      <th>nffcc1dbdf2212e6</th>\n      <td>0574</td>\n      <td>train</td>\n      <td>0.00</td>\n      <td>0.25</td>\n      <td>0.00</td>\n      <td>0.25</td>\n      <td>1.00</td>\n      <td>1.00</td>\n      <td>0.75</td>\n      <td>0.50</td>\n      <td>...</td>\n      <td>0.50</td>\n      <td>0.75</td>\n      <td>0.75</td>\n      <td>0.75</td>\n      <td>0.500000</td>\n      <td>0.833333</td>\n      <td>0.500000</td>\n      <td>0.833333</td>\n      <td>0.833333</td>\n      <td>0.833333</td>\n    </tr>\n    <tr>\n      <th>nffd71b7f6a128df</th>\n      <td>0574</td>\n      <td>train</td>\n      <td>0.00</td>\n      <td>0.25</td>\n      <td>0.00</td>\n      <td>1.00</td>\n      <td>0.50</td>\n      <td>1.00</td>\n      <td>0.00</td>\n      <td>0.50</td>\n      <td>...</td>\n      <td>0.25</td>\n      <td>0.50</td>\n      <td>0.25</td>\n      <td>0.50</td>\n      <td>0.166667</td>\n      <td>0.500000</td>\n      <td>0.166667</td>\n      <td>0.333333</td>\n      <td>0.166667</td>\n      <td>0.333333</td>\n    </tr>\n    <tr>\n      <th>nffde3b371d67394</th>\n      <td>0574</td>\n      <td>train</td>\n      <td>0.25</td>\n      <td>0.25</td>\n      <td>0.50</td>\n      <td>0.25</td>\n      <td>0.75</td>\n      <td>0.75</td>\n      <td>0.75</td>\n      <td>0.25</td>\n      <td>...</td>\n      <td>0.25</td>\n      <td>0.50</td>\n      <td>0.50</td>\n      <td>0.50</td>\n      <td>0.333333</td>\n      <td>0.666667</td>\n      <td>0.333333</td>\n      <td>0.500000</td>\n      <td>0.333333</td>\n      <td>0.666667</td>\n    </tr>\n    <tr>\n      <th>nfff1a1111b35e84</th>\n      <td>0574</td>\n      <td>train</td>\n      <td>1.00</td>\n      <td>0.75</td>\n      <td>0.50</td>\n      <td>0.50</td>\n      <td>0.75</td>\n      <td>0.50</td>\n      <td>0.25</td>\n      <td>0.50</td>\n      <td>...</td>\n      <td>0.75</td>\n      <td>0.75</td>\n      <td>0.75</td>\n      <td>0.75</td>\n      <td>0.666667</td>\n      <td>0.666667</td>\n      <td>0.500000</td>\n      <td>0.500000</td>\n      <td>0.500000</td>\n      <td>0.500000</td>\n    </tr>\n    <tr>\n      <th>nfff2bd38e397265</th>\n      <td>0574</td>\n      <td>train</td>\n      <td>0.25</td>\n      <td>0.25</td>\n      <td>0.75</td>\n      <td>0.00</td>\n      <td>0.50</td>\n      <td>0.50</td>\n      <td>1.00</td>\n      <td>1.00</td>\n      <td>...</td>\n      <td>0.50</td>\n      <td>0.75</td>\n      <td>0.50</td>\n      <td>0.75</td>\n      <td>0.666667</td>\n      <td>0.833333</td>\n      <td>0.666667</td>\n      <td>0.833333</td>\n      <td>0.833333</td>\n      <td>1.000000</td>\n    </tr>\n  </tbody>\n</table>\n<p>2412105 rows × 1073 columns</p>\n</div>",
      "text/plain": "                   era data_type  feature_dichasial_hammier_spawner  \\\nid                                                                    \nn003bba8a98662e4  0001     train                               1.00   \nn003bee128c2fcfc  0001     train                               0.50   \nn0048ac83aff7194  0001     train                               0.50   \nn00691bec80d3e02  0001     train                               1.00   \nn00b8720a2fdc4f2  0001     train                               1.00   \n...                ...       ...                                ...   \nnffcc1dbdf2212e6  0574     train                               0.00   \nnffd71b7f6a128df  0574     train                               0.00   \nnffde3b371d67394  0574     train                               0.25   \nnfff1a1111b35e84  0574     train                               1.00   \nnfff2bd38e397265  0574     train                               0.25   \n\n                  feature_rheumy_epistemic_prancer  \\\nid                                                   \nn003bba8a98662e4                              0.50   \nn003bee128c2fcfc                              1.00   \nn0048ac83aff7194                              0.25   \nn00691bec80d3e02                              0.50   \nn00b8720a2fdc4f2                              0.75   \n...                                            ...   \nnffcc1dbdf2212e6                              0.25   \nnffd71b7f6a128df                              0.25   \nnffde3b371d67394                              0.25   \nnfff1a1111b35e84                              0.75   \nnfff2bd38e397265                              0.25   \n\n                  feature_pert_performative_hormuz  \\\nid                                                   \nn003bba8a98662e4                              1.00   \nn003bee128c2fcfc                              0.25   \nn0048ac83aff7194                              0.75   \nn00691bec80d3e02                              0.50   \nn00b8720a2fdc4f2                              1.00   \n...                                            ...   \nnffcc1dbdf2212e6                              0.00   \nnffd71b7f6a128df                              0.00   \nnffde3b371d67394                              0.50   \nnfff1a1111b35e84                              0.50   \nnfff2bd38e397265                              0.75   \n\n                  feature_hillier_unpitied_theobromine  \\\nid                                                       \nn003bba8a98662e4                                  1.00   \nn003bee128c2fcfc                                  0.75   \nn0048ac83aff7194                                  0.00   \nn00691bec80d3e02                                  0.75   \nn00b8720a2fdc4f2                                  1.00   \n...                                                ...   \nnffcc1dbdf2212e6                                  0.25   \nnffd71b7f6a128df                                  1.00   \nnffde3b371d67394                                  0.25   \nnfff1a1111b35e84                                  0.50   \nnfff2bd38e397265                                  0.00   \n\n                  feature_perigean_bewitching_thruster  \\\nid                                                       \nn003bba8a98662e4                                  0.00   \nn003bee128c2fcfc                                  0.00   \nn0048ac83aff7194                                  0.75   \nn00691bec80d3e02                                  0.00   \nn00b8720a2fdc4f2                                  0.00   \n...                                                ...   \nnffcc1dbdf2212e6                                  1.00   \nnffd71b7f6a128df                                  0.50   \nnffde3b371d67394                                  0.75   \nnfff1a1111b35e84                                  0.75   \nnfff2bd38e397265                                  0.50   \n\n                  feature_renegade_undomestic_milord  \\\nid                                                     \nn003bba8a98662e4                                0.00   \nn003bee128c2fcfc                                0.75   \nn0048ac83aff7194                                0.00   \nn00691bec80d3e02                                1.00   \nn00b8720a2fdc4f2                                0.00   \n...                                              ...   \nnffcc1dbdf2212e6                                1.00   \nnffd71b7f6a128df                                1.00   \nnffde3b371d67394                                0.75   \nnfff1a1111b35e84                                0.50   \nnfff2bd38e397265                                0.50   \n\n                  feature_koranic_rude_corf  \\\nid                                            \nn003bba8a98662e4                       1.00   \nn003bee128c2fcfc                       0.50   \nn0048ac83aff7194                       0.75   \nn00691bec80d3e02                       0.25   \nn00b8720a2fdc4f2                       1.00   \n...                                     ...   \nnffcc1dbdf2212e6                       0.75   \nnffd71b7f6a128df                       0.00   \nnffde3b371d67394                       0.75   \nnfff1a1111b35e84                       0.25   \nnfff2bd38e397265                       1.00   \n\n                  feature_demisable_expiring_millepede  ...  target_paul_20  \\\nid                                                      ...                   \nn003bba8a98662e4                                  1.00  ...            0.25   \nn003bee128c2fcfc                                  0.75  ...            1.00   \nn0048ac83aff7194                                  0.75  ...            0.50   \nn00691bec80d3e02                                  1.00  ...            0.50   \nn00b8720a2fdc4f2                                  0.50  ...            0.50   \n...                                                ...  ...             ...   \nnffcc1dbdf2212e6                                  0.50  ...            0.50   \nnffd71b7f6a128df                                  0.50  ...            0.25   \nnffde3b371d67394                                  0.25  ...            0.25   \nnfff1a1111b35e84                                  0.50  ...            0.75   \nnfff2bd38e397265                                  1.00  ...            0.50   \n\n                  target_paul_60  target_george_20  target_george_60  \\\nid                                                                     \nn003bba8a98662e4            0.25              0.25              0.00   \nn003bee128c2fcfc            1.00              1.00              1.00   \nn0048ac83aff7194            0.25              0.25              0.25   \nn00691bec80d3e02            0.50              0.50              0.50   \nn00b8720a2fdc4f2            0.50              0.50              0.50   \n...                          ...               ...               ...   \nnffcc1dbdf2212e6            0.75              0.75              0.75   \nnffd71b7f6a128df            0.50              0.25              0.50   \nnffde3b371d67394            0.50              0.50              0.50   \nnfff1a1111b35e84            0.75              0.75              0.75   \nnfff2bd38e397265            0.75              0.50              0.75   \n\n                  target_william_20  target_william_60  target_arthur_20  \\\nid                                                                         \nn003bba8a98662e4           0.166667           0.000000          0.166667   \nn003bee128c2fcfc           0.833333           0.666667          0.833333   \nn0048ac83aff7194           0.500000           0.333333          0.500000   \nn00691bec80d3e02           0.666667           0.500000          0.500000   \nn00b8720a2fdc4f2           0.666667           0.500000          0.500000   \n...                             ...                ...               ...   \nnffcc1dbdf2212e6           0.500000           0.833333          0.500000   \nnffd71b7f6a128df           0.166667           0.500000          0.166667   \nnffde3b371d67394           0.333333           0.666667          0.333333   \nnfff1a1111b35e84           0.666667           0.666667          0.500000   \nnfff2bd38e397265           0.666667           0.833333          0.666667   \n\n                  target_arthur_60  target_thomas_20  target_thomas_60  \nid                                                                      \nn003bba8a98662e4          0.000000          0.166667          0.000000  \nn003bee128c2fcfc          0.666667          0.833333          0.666667  \nn0048ac83aff7194          0.333333          0.500000          0.333333  \nn00691bec80d3e02          0.500000          0.666667          0.500000  \nn00b8720a2fdc4f2          0.500000          0.666667          0.500000  \n...                            ...               ...               ...  \nnffcc1dbdf2212e6          0.833333          0.833333          0.833333  \nnffd71b7f6a128df          0.333333          0.166667          0.333333  \nnffde3b371d67394          0.500000          0.333333          0.666667  \nnfff1a1111b35e84          0.500000          0.500000          0.500000  \nnfff2bd38e397265          0.833333          0.833333          1.000000  \n\n[2412105 rows x 1073 columns]"
     },
     "execution_count": 3,
     "metadata": {},
     "output_type": "execute_result"
    },
    {
     "name": "stdout",
     "output_type": "stream",
     "text": []
    }
   ],
   "source": [
    "dataset.train_data"
   ]
  },
  {
   "cell_type": "code",
   "execution_count": 6,
   "metadata": {},
   "outputs": [
    {
     "name": "stdout",
     "output_type": "stream",
     "text": []
    }
   ],
   "source": [
    "model = BasicEnsambler(GradientBoostingRegressor, n_estimators=2, learning_rate=0.1, max_depth=1, random_state=0)"
   ]
  },
  {
   "cell_type": "code",
   "execution_count": 7,
   "metadata": {},
   "outputs": [
    {
     "name": "stdout",
     "output_type": "stream",
     "text": []
    }
   ],
   "source": [
    "model.fit(dataset.train_data)"
   ]
  },
  {
   "cell_type": "code",
   "execution_count": 12,
   "metadata": {},
   "outputs": [
    {
     "data": {
      "text/html": "<div>\n<style scoped>\n    .dataframe tbody tr th:only-of-type {\n        vertical-align: middle;\n    }\n\n    .dataframe tbody tr th {\n        vertical-align: top;\n    }\n\n    .dataframe thead th {\n        text-align: right;\n    }\n</style>\n<table border=\"1\" class=\"dataframe\">\n  <thead>\n    <tr style=\"text-align: right;\">\n      <th></th>\n      <th>era</th>\n      <th>data_type</th>\n      <th>feature_dichasial_hammier_spawner</th>\n      <th>feature_rheumy_epistemic_prancer</th>\n      <th>feature_pert_performative_hormuz</th>\n      <th>feature_hillier_unpitied_theobromine</th>\n      <th>feature_perigean_bewitching_thruster</th>\n      <th>feature_renegade_undomestic_milord</th>\n      <th>feature_koranic_rude_corf</th>\n      <th>feature_demisable_expiring_millepede</th>\n      <th>...</th>\n      <th>target_paul_20</th>\n      <th>target_paul_60</th>\n      <th>target_george_20</th>\n      <th>target_george_60</th>\n      <th>target_william_20</th>\n      <th>target_william_60</th>\n      <th>target_arthur_20</th>\n      <th>target_arthur_60</th>\n      <th>target_thomas_20</th>\n      <th>target_thomas_60</th>\n    </tr>\n    <tr>\n      <th>id</th>\n      <th></th>\n      <th></th>\n      <th></th>\n      <th></th>\n      <th></th>\n      <th></th>\n      <th></th>\n      <th></th>\n      <th></th>\n      <th></th>\n      <th></th>\n      <th></th>\n      <th></th>\n      <th></th>\n      <th></th>\n      <th></th>\n      <th></th>\n      <th></th>\n      <th></th>\n      <th></th>\n      <th></th>\n    </tr>\n  </thead>\n  <tbody>\n    <tr>\n      <th>n000777698096000</th>\n      <td>0857</td>\n      <td>validation</td>\n      <td>0.50</td>\n      <td>0.50</td>\n      <td>0.25</td>\n      <td>0.25</td>\n      <td>0.00</td>\n      <td>0.00</td>\n      <td>0.00</td>\n      <td>0.75</td>\n      <td>...</td>\n      <td>0.25</td>\n      <td>0.50</td>\n      <td>0.25</td>\n      <td>0.50</td>\n      <td>0.166667</td>\n      <td>0.500000</td>\n      <td>0.166667</td>\n      <td>0.500000</td>\n      <td>0.166667</td>\n      <td>0.500000</td>\n    </tr>\n    <tr>\n      <th>n0009793a3b91c27</th>\n      <td>0857</td>\n      <td>validation</td>\n      <td>0.75</td>\n      <td>0.25</td>\n      <td>0.50</td>\n      <td>0.75</td>\n      <td>1.00</td>\n      <td>0.00</td>\n      <td>0.25</td>\n      <td>0.25</td>\n      <td>...</td>\n      <td>0.50</td>\n      <td>0.50</td>\n      <td>0.50</td>\n      <td>0.50</td>\n      <td>0.666667</td>\n      <td>0.833333</td>\n      <td>0.666667</td>\n      <td>0.833333</td>\n      <td>0.500000</td>\n      <td>0.500000</td>\n    </tr>\n    <tr>\n      <th>n00099ccd6698ab0</th>\n      <td>0857</td>\n      <td>validation</td>\n      <td>0.25</td>\n      <td>0.75</td>\n      <td>0.00</td>\n      <td>0.75</td>\n      <td>1.00</td>\n      <td>0.75</td>\n      <td>1.00</td>\n      <td>1.00</td>\n      <td>...</td>\n      <td>0.25</td>\n      <td>0.25</td>\n      <td>0.25</td>\n      <td>0.25</td>\n      <td>0.166667</td>\n      <td>0.333333</td>\n      <td>0.166667</td>\n      <td>0.333333</td>\n      <td>0.166667</td>\n      <td>0.166667</td>\n    </tr>\n    <tr>\n      <th>n0019e36bbb8702b</th>\n      <td>0857</td>\n      <td>validation</td>\n      <td>0.50</td>\n      <td>1.00</td>\n      <td>0.25</td>\n      <td>0.75</td>\n      <td>0.75</td>\n      <td>0.50</td>\n      <td>0.00</td>\n      <td>0.75</td>\n      <td>...</td>\n      <td>0.75</td>\n      <td>0.50</td>\n      <td>0.50</td>\n      <td>0.50</td>\n      <td>0.666667</td>\n      <td>0.500000</td>\n      <td>0.666667</td>\n      <td>0.500000</td>\n      <td>0.500000</td>\n      <td>0.500000</td>\n    </tr>\n    <tr>\n      <th>n0028cb874439df8</th>\n      <td>0857</td>\n      <td>validation</td>\n      <td>0.00</td>\n      <td>0.75</td>\n      <td>0.00</td>\n      <td>0.25</td>\n      <td>1.00</td>\n      <td>0.50</td>\n      <td>0.00</td>\n      <td>0.00</td>\n      <td>...</td>\n      <td>0.25</td>\n      <td>0.50</td>\n      <td>0.50</td>\n      <td>0.75</td>\n      <td>0.333333</td>\n      <td>0.500000</td>\n      <td>0.333333</td>\n      <td>0.500000</td>\n      <td>0.500000</td>\n      <td>0.666667</td>\n    </tr>\n    <tr>\n      <th>...</th>\n      <td>...</td>\n      <td>...</td>\n      <td>...</td>\n      <td>...</td>\n      <td>...</td>\n      <td>...</td>\n      <td>...</td>\n      <td>...</td>\n      <td>...</td>\n      <td>...</td>\n      <td>...</td>\n      <td>...</td>\n      <td>...</td>\n      <td>...</td>\n      <td>...</td>\n      <td>...</td>\n      <td>...</td>\n      <td>...</td>\n      <td>...</td>\n      <td>...</td>\n      <td>...</td>\n    </tr>\n    <tr>\n      <th>nffbe5152c321f92</th>\n      <td>0961</td>\n      <td>validation</td>\n      <td>0.00</td>\n      <td>0.25</td>\n      <td>1.00</td>\n      <td>1.00</td>\n      <td>0.00</td>\n      <td>0.75</td>\n      <td>1.00</td>\n      <td>1.00</td>\n      <td>...</td>\n      <td>0.50</td>\n      <td>0.50</td>\n      <td>0.50</td>\n      <td>0.50</td>\n      <td>0.500000</td>\n      <td>0.666667</td>\n      <td>0.500000</td>\n      <td>0.500000</td>\n      <td>0.500000</td>\n      <td>0.500000</td>\n    </tr>\n    <tr>\n      <th>nffc011b4baa54c3</th>\n      <td>0961</td>\n      <td>validation</td>\n      <td>1.00</td>\n      <td>0.50</td>\n      <td>0.50</td>\n      <td>1.00</td>\n      <td>0.00</td>\n      <td>0.75</td>\n      <td>0.25</td>\n      <td>0.75</td>\n      <td>...</td>\n      <td>0.25</td>\n      <td>0.50</td>\n      <td>0.50</td>\n      <td>0.75</td>\n      <td>0.333333</td>\n      <td>0.666667</td>\n      <td>0.333333</td>\n      <td>0.500000</td>\n      <td>0.500000</td>\n      <td>0.666667</td>\n    </tr>\n    <tr>\n      <th>nffc12b2a846ab4e</th>\n      <td>0961</td>\n      <td>validation</td>\n      <td>0.00</td>\n      <td>0.50</td>\n      <td>0.25</td>\n      <td>0.25</td>\n      <td>0.00</td>\n      <td>0.00</td>\n      <td>0.25</td>\n      <td>0.00</td>\n      <td>...</td>\n      <td>0.00</td>\n      <td>0.00</td>\n      <td>0.25</td>\n      <td>0.25</td>\n      <td>0.000000</td>\n      <td>0.166667</td>\n      <td>0.000000</td>\n      <td>0.166667</td>\n      <td>0.166667</td>\n      <td>0.333333</td>\n    </tr>\n    <tr>\n      <th>nffc3c5ab0235de0</th>\n      <td>0961</td>\n      <td>validation</td>\n      <td>0.25</td>\n      <td>0.25</td>\n      <td>0.50</td>\n      <td>0.25</td>\n      <td>1.00</td>\n      <td>0.00</td>\n      <td>0.75</td>\n      <td>0.00</td>\n      <td>...</td>\n      <td>0.50</td>\n      <td>0.50</td>\n      <td>0.50</td>\n      <td>0.50</td>\n      <td>0.500000</td>\n      <td>0.666667</td>\n      <td>0.500000</td>\n      <td>0.500000</td>\n      <td>0.666667</td>\n      <td>0.666667</td>\n    </tr>\n    <tr>\n      <th>nffe714f0da4d819</th>\n      <td>0961</td>\n      <td>validation</td>\n      <td>0.75</td>\n      <td>1.00</td>\n      <td>0.50</td>\n      <td>0.50</td>\n      <td>0.75</td>\n      <td>1.00</td>\n      <td>0.00</td>\n      <td>0.00</td>\n      <td>...</td>\n      <td>0.50</td>\n      <td>0.50</td>\n      <td>0.50</td>\n      <td>0.50</td>\n      <td>0.500000</td>\n      <td>0.500000</td>\n      <td>0.500000</td>\n      <td>0.500000</td>\n      <td>0.500000</td>\n      <td>0.500000</td>\n    </tr>\n  </tbody>\n</table>\n<p>539658 rows × 1073 columns</p>\n</div>",
      "text/plain": "                   era   data_type  feature_dichasial_hammier_spawner  \\\nid                                                                      \nn000777698096000  0857  validation                               0.50   \nn0009793a3b91c27  0857  validation                               0.75   \nn00099ccd6698ab0  0857  validation                               0.25   \nn0019e36bbb8702b  0857  validation                               0.50   \nn0028cb874439df8  0857  validation                               0.00   \n...                ...         ...                                ...   \nnffbe5152c321f92  0961  validation                               0.00   \nnffc011b4baa54c3  0961  validation                               1.00   \nnffc12b2a846ab4e  0961  validation                               0.00   \nnffc3c5ab0235de0  0961  validation                               0.25   \nnffe714f0da4d819  0961  validation                               0.75   \n\n                  feature_rheumy_epistemic_prancer  \\\nid                                                   \nn000777698096000                              0.50   \nn0009793a3b91c27                              0.25   \nn00099ccd6698ab0                              0.75   \nn0019e36bbb8702b                              1.00   \nn0028cb874439df8                              0.75   \n...                                            ...   \nnffbe5152c321f92                              0.25   \nnffc011b4baa54c3                              0.50   \nnffc12b2a846ab4e                              0.50   \nnffc3c5ab0235de0                              0.25   \nnffe714f0da4d819                              1.00   \n\n                  feature_pert_performative_hormuz  \\\nid                                                   \nn000777698096000                              0.25   \nn0009793a3b91c27                              0.50   \nn00099ccd6698ab0                              0.00   \nn0019e36bbb8702b                              0.25   \nn0028cb874439df8                              0.00   \n...                                            ...   \nnffbe5152c321f92                              1.00   \nnffc011b4baa54c3                              0.50   \nnffc12b2a846ab4e                              0.25   \nnffc3c5ab0235de0                              0.50   \nnffe714f0da4d819                              0.50   \n\n                  feature_hillier_unpitied_theobromine  \\\nid                                                       \nn000777698096000                                  0.25   \nn0009793a3b91c27                                  0.75   \nn00099ccd6698ab0                                  0.75   \nn0019e36bbb8702b                                  0.75   \nn0028cb874439df8                                  0.25   \n...                                                ...   \nnffbe5152c321f92                                  1.00   \nnffc011b4baa54c3                                  1.00   \nnffc12b2a846ab4e                                  0.25   \nnffc3c5ab0235de0                                  0.25   \nnffe714f0da4d819                                  0.50   \n\n                  feature_perigean_bewitching_thruster  \\\nid                                                       \nn000777698096000                                  0.00   \nn0009793a3b91c27                                  1.00   \nn00099ccd6698ab0                                  1.00   \nn0019e36bbb8702b                                  0.75   \nn0028cb874439df8                                  1.00   \n...                                                ...   \nnffbe5152c321f92                                  0.00   \nnffc011b4baa54c3                                  0.00   \nnffc12b2a846ab4e                                  0.00   \nnffc3c5ab0235de0                                  1.00   \nnffe714f0da4d819                                  0.75   \n\n                  feature_renegade_undomestic_milord  \\\nid                                                     \nn000777698096000                                0.00   \nn0009793a3b91c27                                0.00   \nn00099ccd6698ab0                                0.75   \nn0019e36bbb8702b                                0.50   \nn0028cb874439df8                                0.50   \n...                                              ...   \nnffbe5152c321f92                                0.75   \nnffc011b4baa54c3                                0.75   \nnffc12b2a846ab4e                                0.00   \nnffc3c5ab0235de0                                0.00   \nnffe714f0da4d819                                1.00   \n\n                  feature_koranic_rude_corf  \\\nid                                            \nn000777698096000                       0.00   \nn0009793a3b91c27                       0.25   \nn00099ccd6698ab0                       1.00   \nn0019e36bbb8702b                       0.00   \nn0028cb874439df8                       0.00   \n...                                     ...   \nnffbe5152c321f92                       1.00   \nnffc011b4baa54c3                       0.25   \nnffc12b2a846ab4e                       0.25   \nnffc3c5ab0235de0                       0.75   \nnffe714f0da4d819                       0.00   \n\n                  feature_demisable_expiring_millepede  ...  target_paul_20  \\\nid                                                      ...                   \nn000777698096000                                  0.75  ...            0.25   \nn0009793a3b91c27                                  0.25  ...            0.50   \nn00099ccd6698ab0                                  1.00  ...            0.25   \nn0019e36bbb8702b                                  0.75  ...            0.75   \nn0028cb874439df8                                  0.00  ...            0.25   \n...                                                ...  ...             ...   \nnffbe5152c321f92                                  1.00  ...            0.50   \nnffc011b4baa54c3                                  0.75  ...            0.25   \nnffc12b2a846ab4e                                  0.00  ...            0.00   \nnffc3c5ab0235de0                                  0.00  ...            0.50   \nnffe714f0da4d819                                  0.00  ...            0.50   \n\n                  target_paul_60  target_george_20  target_george_60  \\\nid                                                                     \nn000777698096000            0.50              0.25              0.50   \nn0009793a3b91c27            0.50              0.50              0.50   \nn00099ccd6698ab0            0.25              0.25              0.25   \nn0019e36bbb8702b            0.50              0.50              0.50   \nn0028cb874439df8            0.50              0.50              0.75   \n...                          ...               ...               ...   \nnffbe5152c321f92            0.50              0.50              0.50   \nnffc011b4baa54c3            0.50              0.50              0.75   \nnffc12b2a846ab4e            0.00              0.25              0.25   \nnffc3c5ab0235de0            0.50              0.50              0.50   \nnffe714f0da4d819            0.50              0.50              0.50   \n\n                  target_william_20  target_william_60  target_arthur_20  \\\nid                                                                         \nn000777698096000           0.166667           0.500000          0.166667   \nn0009793a3b91c27           0.666667           0.833333          0.666667   \nn00099ccd6698ab0           0.166667           0.333333          0.166667   \nn0019e36bbb8702b           0.666667           0.500000          0.666667   \nn0028cb874439df8           0.333333           0.500000          0.333333   \n...                             ...                ...               ...   \nnffbe5152c321f92           0.500000           0.666667          0.500000   \nnffc011b4baa54c3           0.333333           0.666667          0.333333   \nnffc12b2a846ab4e           0.000000           0.166667          0.000000   \nnffc3c5ab0235de0           0.500000           0.666667          0.500000   \nnffe714f0da4d819           0.500000           0.500000          0.500000   \n\n                  target_arthur_60  target_thomas_20  target_thomas_60  \nid                                                                      \nn000777698096000          0.500000          0.166667          0.500000  \nn0009793a3b91c27          0.833333          0.500000          0.500000  \nn00099ccd6698ab0          0.333333          0.166667          0.166667  \nn0019e36bbb8702b          0.500000          0.500000          0.500000  \nn0028cb874439df8          0.500000          0.500000          0.666667  \n...                            ...               ...               ...  \nnffbe5152c321f92          0.500000          0.500000          0.500000  \nnffc011b4baa54c3          0.500000          0.500000          0.666667  \nnffc12b2a846ab4e          0.166667          0.166667          0.333333  \nnffc3c5ab0235de0          0.500000          0.666667          0.666667  \nnffe714f0da4d819          0.500000          0.500000          0.500000  \n\n[539658 rows x 1073 columns]"
     },
     "execution_count": 12,
     "metadata": {},
     "output_type": "execute_result"
    },
    {
     "name": "stdout",
     "output_type": "stream",
     "text": []
    }
   ],
   "source": [
    "dataset.val_data"
   ]
  },
  {
   "cell_type": "code",
   "execution_count": 14,
   "metadata": {},
   "outputs": [
    {
     "name": "stdout",
     "output_type": "stream",
     "text": []
    }
   ],
   "source": [
    "dataset.val_data.loc[:, \"pred\"] = model.predict(dataset.val_data)"
   ]
  },
  {
   "cell_type": "code",
   "execution_count": 15,
   "metadata": {},
   "outputs": [
    {
     "ename": "NameError",
     "evalue": "name 'validation_metrics' is not defined",
     "output_type": "error",
     "traceback": [
      "\u001b[0;31m---------------------------------------------------------------------------\u001b[0m",
      "\u001b[0;31mNameError\u001b[0m                                 Traceback (most recent call last)",
      "\u001b[0;32m<ipython-input-15-38a49ee67972>\u001b[0m in \u001b[0;36m<module>\u001b[0;34m\u001b[0m\n\u001b[0;32m----> 1\u001b[0;31m \u001b[0mvalidation_metrics\u001b[0m\u001b[0;34m(\u001b[0m\u001b[0mdataset\u001b[0m\u001b[0;34m.\u001b[0m\u001b[0mval_data\u001b[0m\u001b[0;34m)\u001b[0m\u001b[0;34m\u001b[0m\u001b[0;34m\u001b[0m\u001b[0m\n\u001b[0m",
      "\u001b[0;31mNameError\u001b[0m: name 'validation_metrics' is not defined"
     ]
    },
    {
     "name": "stdout",
     "output_type": "stream",
     "text": []
    }
   ],
   "source": [
    "validation_metrics(dataset.val_data)"
   ]
  },
  {
   "cell_type": "code",
   "execution_count": null,
   "metadata": {},
   "outputs": [],
   "source": []
  }
 ],
 "metadata": {
  "kernelspec": {
   "display_name": "Python 3.7.4 64-bit ('quantbob': conda)",
   "name": "python374jvsc74a57bd09ef5bd674ac13bcc5849f620fc9bd56558be1075f555c658d4c84edc3e409827"
  },
  "language_info": {
   "codemirror_mode": {
    "name": "ipython",
    "version": 3
   },
   "file_extension": ".py",
   "mimetype": "text/x-python",
   "name": "python",
   "nbconvert_exporter": "python",
   "pygments_lexer": "ipython3",
   "version": "3.7.4"
  },
  "metadata": {
   "interpreter": {
    "hash": "9ef5bd674ac13bcc5849f620fc9bd56558be1075f555c658d4c84edc3e409827"
   }
  },
  "orig_nbformat": 2
 },
 "nbformat": 4,
 "nbformat_minor": 2
}