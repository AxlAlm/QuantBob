{
 "cells": [
  {
   "cell_type": "code",
   "execution_count": 1,
   "metadata": {},
   "outputs": [
    {
     "name": "stderr",
     "output_type": "stream",
     "text": [
      "/home/axl/repos/QuantBob/.venv/lib/python3.8/site-packages/pandas/compat/__init__.py:124: UserWarning: Could not import the lzma module. Your installed Python is incomplete. Attempting to use lzma compression will result in a RuntimeError.\n",
      "  warnings.warn(msg)\n"
     ]
    }
   ],
   "source": [
    "from quantbob import QuantBob"
   ]
  },
  {
   "cell_type": "code",
   "execution_count": 2,
   "metadata": {
    "scrolled": false
   },
   "outputs": [
    {
     "name": "stderr",
     "output_type": "stream",
     "text": [
      "2021-12-19 15:24:19,970 INFO numerapi.utils: starting download\n",
      "/tmp/numerai_data/numerai_training_data.parquet: 1.01GB [21:35, 782kB/s]                            \n",
      "2021-12-19 15:46:02,075 INFO numerapi.utils: starting download\n",
      "/tmp/numerai_data/numerai_validation_data.parquet: 228MB [03:51, 983kB/s]                           \n",
      "2021-12-19 15:49:54,734 INFO numerapi.utils: starting download\n",
      "/tmp/numerai_data/numerai_tournament_data.parquet:  68%|██████▊   | 399M/582M [15:27<05:46, 529kB/s]"
     ]
    }
   ],
   "source": [
    "bob = QuantBob()\n",
    "bob"
   ]
  },
  {
   "cell_type": "code",
   "execution_count": null,
   "metadata": {
    "scrolled": true
   },
   "outputs": [],
   "source": [
    "#QuantBob().from_yamls(\"model_configs/\")"
   ]
  },
  {
   "cell_type": "code",
   "execution_count": null,
   "metadata": {},
   "outputs": [],
   "source": []
  },
  {
   "cell_type": "code",
   "execution_count": null,
   "metadata": {},
   "outputs": [],
   "source": []
  }
 ],
 "metadata": {
  "kernelspec": {
   "display_name": "Python 3 (ipykernel)",
   "language": "python",
   "name": "python3"
  },
  "language_info": {
   "codemirror_mode": {
    "name": "ipython",
    "version": 3
   },
   "file_extension": ".py",
   "mimetype": "text/x-python",
   "name": "python",
   "nbconvert_exporter": "python",
   "pygments_lexer": "ipython3",
   "version": "3.8.10"
  },
  "metadata": {
   "interpreter": {
    "hash": "9ef5bd674ac13bcc5849f620fc9bd56558be1075f555c658d4c84edc3e409827"
   }
  }
 },
 "nbformat": 4,
 "nbformat_minor": 2
}
