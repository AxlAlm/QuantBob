{
 "cells": [
  {
   "cell_type": "code",
   "execution_count": 1,
   "metadata": {},
   "outputs": [],
   "source": [
    "from quantbob import QuantBob\n",
    "bob = QuantBob()"
   ]
  },
  {
   "cell_type": "code",
   "execution_count": 2,
   "metadata": {
    "scrolled": false
   },
   "outputs": [
    {
     "name": "stderr",
     "output_type": "stream",
     "text": [
      "2022-01-08 15:10:41,102 INFO numerapi.utils: target file already exists\n",
      "2022-01-08 15:10:41,104 INFO numerapi.utils: download complete\n",
      "2022-01-08 15:10:42,116 INFO numerapi.utils: target file already exists\n",
      "2022-01-08 15:10:42,117 INFO numerapi.utils: download complete\n",
      "2022-01-08 15:10:43,126 INFO numerapi.utils: target file already exists\n",
      "2022-01-08 15:10:43,127 INFO numerapi.utils: download complete\n"
     ]
    },
    {
     "name": "stdout",
     "output_type": "stream",
     "text": [
      "⠴ Turning training data into  h5py⠙⠋ Loading train data Turning training data into  h5py⠙ Loading train data⠹⠹ Turning training data into  h5py Loading train data⠸ Turning training data into  h5py⠸ Loading train data⠼⠼ Loading train data Turning training data into  h5py⠴ Loading train data Turning training data into  h5py⠦ Loading train data⠦ Turning training data into  h5py⠧ Loading train data⠧ Turning training data into  h5py⠇ Loading train data⠇ Turning training data into  h5py⠏ Loading train data⠏ Turning training data into  h5py⠋ Loading train data⠋ Turning training data into  h5py⠙ Loading train data⠙ Turning training data into  h5py⠹ Loading train data⠹ Turning training data into  h5py⠸ Loading train data⠸ Turning training data into  h5py⠼ Loading train data⠼ Turning training data into  h5py⠴ Loading train data⠴ Turning training data into  h5py⠦ Loading train data⠦ Turning training data into  h5py⠧ Loading train data⠧ Turning training data into  h5py⠇ Loading train data⠇ Turning training data into  h5py⠏ Loading train data⠏ Turning training data into  h5py⠋ Loading train data⠋ Turning training data into  h5py⠙ Loading train data⠙ Turning training data into  h5py⠹ Loading train data⠹ Turning training data into  h5py⠸ Loading train data⠸ Turning training data into  h5py⠼ Loading train data⠼ Turning training data into  h5py⠴ Loading train data⠴ Turning training data into  h5py⠦ Loading train data⠦ Turning training data into  h5py⠧ Loading train data⠧ Turning training data into  h5py⠇ Loading train data⠇ Turning training data into  h5py⠏ Loading train data⠏ Turning training data into  h5py⠋ Loading train data⠋ Turning training data into  h5py⠙ Loading train data⠙ Turning training data into  h5py⠹ Loading train data⠹ Turning training data into  h5py⠸ Loading train data⠸ Turning training data into  h5py⠼ Loading train data⠼ Turning training data into  h5py⠴ Loading train data⠴ Turning training data into  h5py⠦ Loading train data⠦ Turning training data into  h5py⠧ Loading train data⠧ Turning training data into  h5py⠇ Loading train data⠇ Turning training data into  h5py⠏ Loading train data⠏ Turning training data into  h5py⠋ Loading train data⠋ Turning training data into  h5py⠙ Loading train data⠙ Turning training data into  h5py⠹ Loading train data⠹ Turning training data into  h5py⠸ Loading train data⠸ Turning training data into  h5py⠼ Loading train data⠼ Turning training data into  h5py⠴ Loading train data⠴ Turning training data into  h5py⠦ Loading train data⠦ Turning training data into  h5py⠧ Loading train data⠧ Turning training data into  h5py⠇ Loading train data⠇ Turning training data into  h5py⠏ Loading train data⠏ Turning training data into  h5py⠋ Loading train data⠋ Turning training data into  h5py⠙ Loading train data⠙ Turning training data into  h5py⠹ Loading train data⠹ Turning training data into  h5py⠸ Loading train data⠸ Turning training data into  h5py⠼ Loading train data⠼ Turning training data into  h5py⠴ Loading train data⠴ Turning training data into  h5py⠦ Loading train data⠦ Turning training data into  h5py⠧ Loading train data⠧ Turning training data into  h5py⠇ Loading train data⠇ Turning training data into  h5py⠏ Loading train data⠏ Turning training data into  h5py⠋ Loading train data⠋ Turning training data into  h5py⠙ Loading train data⠙ Turning training data into  h5py⠹ Loading train data⠹ Turning training data into  h5py⠸ Loading train data⠸ Turning training data into  h5py⠼ Loading train data⠼ Turning training data into  h5py⠴ Loading train data⠴ Turning training data into  h5py⠦ Loading train data⠦ Turning training data into  h5py⠧ Loading train data⠧ Turning training data into  h5py⠇ Loading train data⠇ Turning training data into  h5py⠏ Loading train data⠏ Turning training data into  h5py⠋ Loading train data⠋ Turning training data into  h5py⠙ Loading train data⠙ Turning training data into  h5py⠹ Loading train data⠹ Turning training data into  h5py⠸ Loading train data⠸ Turning training data into  h5py⠼ Loading train data⠼ Turning training data into  h5py⠴ Loading train data⠴ Turning training data into  h5py⠦ Loading train data⠦ Turning training data into  h5py⠧ Loading train data⠧ Turning training data into  h5py⠇ Loading train data⠇ Turning training data into  h5py⠏ Loading train data⠏ Turning training data into  h5py⠋ Loading train data⠋ Turning training data into  h5py⠙ Loading train data⠙ Turning training data into  h5py⠹ Loading train data⠹ Turning training data into  h5py⠸ Loading train data⠸ Turning training data into  h5py⠼ Loading train data⠼ Turning training data into  h5py⠴ Loading train data⠴ Turning training data into  h5py⠦ Loading train data⠦ Turning training data into  h5py⠧ Loading train data⠧ Turning training data into  h5py⠇ Loading train data⠇ Turning training data into  h5py⠏ Loading train data⠏ Turning training data into  h5py⠋ Loading train data⠋ Turning training data into  h5py⠙ Loading train data⠙ Turning training data into  h5py⠹ Loading train data⠹ Turning training data into  h5py⠸ Loading train data⠸ Turning training data into  h5py⠼ Loading train data⠼ Turning training data into  h5py⠴ Loading train data⠴ Turning training data into  h5py⠦ Loading train data⠦ Turning training data into  h5py⠧ Loading train data⠧ Turning training data into  h5py⠇ Loading train data⠇ Turning training data into  h5py⠏ Loading train data⠏ Turning training data into  h5py⠋ Loading train data⠋ Turning training data into  h5py⠙ Loading train data⠙ Turning training data into  h5py⠹ Loading train data⠹ Turning training data into  h5py⠸ Loading train data⠸ Turning training data into  h5py⠼ Loading train data⠼ Turning training data into  h5py⠴ Loading train data⠴ Turning training data into  h5py⠦ Loading train data⠦ Turning training data into  h5py⠧ Loading train data⠧ Turning training data into  h5py⠇ Loading train data⠇ Turning training data into  h5py⠏ Loading train data⠏ Turning training data into  h5py⠋ Loading train data⠋ Turning training data into  h5py⠙ Loading train data⠙ Turning training data into  h5py⠹ Loading train data⠹ Turning training data into  h5py⠸ Loading train data⠸ Turning training data into  h5py⠼ Loading train data⠼ Turning training data into  h5py⠴ Loading train data⠴ Turning training data into  h5py⠦ Loading train data⠦ Turning training data into  h5py⠧ Loading train data⠧ Turning training data into  h5py⠇ Loading train data⠇ Turning training data into  h5py⠏ Loading train data⠏ Turning training data into  h5py⠋ Loading train data⠋ Turning training data into  h5py⠙ Loading train data⠙ Turning training data into  h5py⠹ Loading train data⠹ Turning training data into  h5py⠸ Loading train data⠸ Turning training data into  h5py⠼ Loading train data⠼ Turning training data into  h5py⠴ Loading train data⠴ Turning training data into  h5py⠦ Loading train data⠦ Turning training data into  h5py⠧ Loading train data⠧ Turning training data into  h5py⠇ Loading train data⠇ Turning training data into  h5py⠏ Loading train data⠏ Turning training data into  h5py⠋ Loading train data⠋ Turning training data into  h5py⠙ Loading train data⠙ Turning training data into  h5py⠹ Loading train data⠹ Turning training data into  h5py⠸ Loading train data⠸ Turning training data into  h5py⠼ Loading train data⠼ Turning training data into  h5py⠴ Loading train data⠴ Turning training data into  h5py⠦ Loading train data⠦ Turning training data into  h5py⠧ Loading train data⠧ Turning training data into  h5py⠇ Loading train data⠇ Turning training data into  h5py⠏ Loading train data⠏ Turning training data into  h5py⠋ Loading train data⠋ Turning training data into  h5py⠙ Loading train data⠙ Turning training data into  h5py⠹ Loading train data⠹ Turning training data into  h5py⠸ Loading train data"
     ]
    },
    {
     "ename": "KeyboardInterrupt",
     "evalue": "",
     "output_type": "error",
     "traceback": [
      "\u001b[0;31m---------------------------------------------------------------------------\u001b[0m",
      "\u001b[0;31mKeyboardInterrupt\u001b[0m                         Traceback (most recent call last)",
      "\u001b[0;32m/tmp/ipykernel_12987/4211752524.py\u001b[0m in \u001b[0;36m<module>\u001b[0;34m\u001b[0m\n\u001b[0;32m----> 1\u001b[0;31m \u001b[0mbob\u001b[0m \u001b[0;34m=\u001b[0m \u001b[0mQuantBob\u001b[0m\u001b[0;34m(\u001b[0m\u001b[0;34m)\u001b[0m\u001b[0;34m\u001b[0m\u001b[0;34m\u001b[0m\u001b[0m\n\u001b[0m\u001b[1;32m      2\u001b[0m \u001b[0mbob\u001b[0m\u001b[0;34m\u001b[0m\u001b[0;34m\u001b[0m\u001b[0m\n",
      "\u001b[0;32m~/repos/QuantBob/quantbob/quantbob.py\u001b[0m in \u001b[0;36m__init__\u001b[0;34m(self)\u001b[0m\n\u001b[1;32m     29\u001b[0m \u001b[0;34m\u001b[0m\u001b[0m\n\u001b[1;32m     30\u001b[0m         \u001b[0;31m# init the dataset\u001b[0m\u001b[0;34m\u001b[0m\u001b[0;34m\u001b[0m\u001b[0;34m\u001b[0m\u001b[0m\n\u001b[0;32m---> 31\u001b[0;31m         \u001b[0mself\u001b[0m\u001b[0;34m.\u001b[0m\u001b[0m_dataset\u001b[0m \u001b[0;34m=\u001b[0m \u001b[0mNumerAIDataset\u001b[0m\u001b[0;34m(\u001b[0m\u001b[0;34m)\u001b[0m\u001b[0;34m\u001b[0m\u001b[0;34m\u001b[0m\u001b[0m\n\u001b[0m\u001b[1;32m     32\u001b[0m \u001b[0;34m\u001b[0m\u001b[0m\n\u001b[1;32m     33\u001b[0m         \u001b[0;31m# setup\u001b[0m\u001b[0;34m\u001b[0m\u001b[0;34m\u001b[0m\u001b[0;34m\u001b[0m\u001b[0m\n",
      "\u001b[0;32m~/repos/QuantBob/quantbob/numerai_dataset.py\u001b[0m in \u001b[0;36m__init__\u001b[0;34m(self, debug, force_download)\u001b[0m\n\u001b[1;32m     60\u001b[0m             \u001b[0;31m# index per era quickly without haveing the whole dataset\u001b[0m\u001b[0;34m\u001b[0m\u001b[0;34m\u001b[0m\u001b[0;34m\u001b[0m\u001b[0m\n\u001b[1;32m     61\u001b[0m             \u001b[0;31m# in memory\u001b[0m\u001b[0;34m\u001b[0m\u001b[0;34m\u001b[0m\u001b[0;34m\u001b[0m\u001b[0m\n\u001b[0;32m---> 62\u001b[0;31m             \u001b[0mself\u001b[0m\u001b[0;34m.\u001b[0m\u001b[0m_create_train_hdf\u001b[0m\u001b[0;34m(\u001b[0m\u001b[0;34m)\u001b[0m\u001b[0;34m\u001b[0m\u001b[0;34m\u001b[0m\u001b[0m\n\u001b[0m\u001b[1;32m     63\u001b[0m \u001b[0;34m\u001b[0m\u001b[0m\n\u001b[1;32m     64\u001b[0m \u001b[0;34m\u001b[0m\u001b[0m\n",
      "\u001b[0;32m~/repos/QuantBob/quantbob/numerai_dataset.py\u001b[0m in \u001b[0;36m_create_train_hdf\u001b[0;34m(self)\u001b[0m\n\u001b[1;32m    186\u001b[0m \u001b[0;34m\u001b[0m\u001b[0m\n\u001b[1;32m    187\u001b[0m         \u001b[0;31m# load data\u001b[0m\u001b[0;34m\u001b[0m\u001b[0;34m\u001b[0m\u001b[0;34m\u001b[0m\u001b[0m\n\u001b[0;32m--> 188\u001b[0;31m         \u001b[0mdf\u001b[0m \u001b[0;34m=\u001b[0m \u001b[0mself\u001b[0m\u001b[0;34m.\u001b[0m\u001b[0mget_train_data\u001b[0m\u001b[0;34m(\u001b[0m\u001b[0;34m)\u001b[0m\u001b[0;34m\u001b[0m\u001b[0;34m\u001b[0m\u001b[0m\n\u001b[0m\u001b[1;32m    189\u001b[0m \u001b[0;34m\u001b[0m\u001b[0m\n\u001b[1;32m    190\u001b[0m         \u001b[0;31m#save number of eras\u001b[0m\u001b[0;34m\u001b[0m\u001b[0;34m\u001b[0m\u001b[0;34m\u001b[0m\u001b[0m\n",
      "\u001b[0;32m~/repos/QuantBob/quantbob/numerai_dataset.py\u001b[0m in \u001b[0;36mget_train_data\u001b[0;34m(self)\u001b[0m\n\u001b[1;32m     71\u001b[0m \u001b[0;34m\u001b[0m\u001b[0m\n\u001b[1;32m     72\u001b[0m     \u001b[0;32mdef\u001b[0m \u001b[0mget_train_data\u001b[0m\u001b[0;34m(\u001b[0m\u001b[0mself\u001b[0m\u001b[0;34m)\u001b[0m\u001b[0;34m:\u001b[0m\u001b[0;34m\u001b[0m\u001b[0;34m\u001b[0m\u001b[0m\n\u001b[0;32m---> 73\u001b[0;31m         \u001b[0;32mreturn\u001b[0m \u001b[0mself\u001b[0m\u001b[0;34m.\u001b[0m\u001b[0m_load_data\u001b[0m\u001b[0;34m(\u001b[0m\u001b[0;34m\"train\"\u001b[0m\u001b[0;34m)\u001b[0m\u001b[0;34m\u001b[0m\u001b[0;34m\u001b[0m\u001b[0m\n\u001b[0m\u001b[1;32m     74\u001b[0m \u001b[0;34m\u001b[0m\u001b[0m\n\u001b[1;32m     75\u001b[0m \u001b[0;34m\u001b[0m\u001b[0m\n",
      "\u001b[0;32m~/repos/QuantBob/quantbob/numerai_dataset.py\u001b[0m in \u001b[0;36m_load_data\u001b[0;34m(self, split)\u001b[0m\n\u001b[1;32m    137\u001b[0m         \u001b[0mspinner\u001b[0m \u001b[0;34m=\u001b[0m \u001b[0mHalo\u001b[0m\u001b[0;34m(\u001b[0m\u001b[0mtext\u001b[0m\u001b[0;34m=\u001b[0m\u001b[0;34mf'Loading {split} data'\u001b[0m\u001b[0;34m,\u001b[0m \u001b[0mspinner\u001b[0m\u001b[0;34m=\u001b[0m\u001b[0;34m'dots'\u001b[0m\u001b[0;34m)\u001b[0m\u001b[0;34m\u001b[0m\u001b[0;34m\u001b[0m\u001b[0m\n\u001b[1;32m    138\u001b[0m         \u001b[0mspinner\u001b[0m\u001b[0;34m.\u001b[0m\u001b[0mstart\u001b[0m\u001b[0;34m(\u001b[0m\u001b[0;34mf'Loading {split} data'\u001b[0m\u001b[0;34m)\u001b[0m\u001b[0;34m\u001b[0m\u001b[0;34m\u001b[0m\u001b[0m\n\u001b[0;32m--> 139\u001b[0;31m         \u001b[0mdf\u001b[0m \u001b[0;34m=\u001b[0m \u001b[0mpd\u001b[0m\u001b[0;34m.\u001b[0m\u001b[0mread_parquet\u001b[0m\u001b[0;34m(\u001b[0m\u001b[0mgetattr\u001b[0m\u001b[0;34m(\u001b[0m\u001b[0mself\u001b[0m\u001b[0;34m,\u001b[0m \u001b[0;34mf\"_{split}_fp\"\u001b[0m\u001b[0;34m)\u001b[0m\u001b[0;34m)\u001b[0m\u001b[0;34m\u001b[0m\u001b[0;34m\u001b[0m\u001b[0m\n\u001b[0m\u001b[1;32m    140\u001b[0m         \u001b[0mspinner\u001b[0m\u001b[0;34m.\u001b[0m\u001b[0msucceed\u001b[0m\u001b[0;34m(\u001b[0m\u001b[0;34m)\u001b[0m\u001b[0;34m\u001b[0m\u001b[0;34m\u001b[0m\u001b[0m\n\u001b[1;32m    141\u001b[0m         \u001b[0;32mreturn\u001b[0m \u001b[0mdf\u001b[0m\u001b[0;34m\u001b[0m\u001b[0;34m\u001b[0m\u001b[0m\n",
      "\u001b[0;32m~/.cache/pypoetry/virtualenvs/quantbob-Vnca5bs1-py3.8/lib/python3.8/site-packages/pandas/io/parquet.py\u001b[0m in \u001b[0;36mread_parquet\u001b[0;34m(path, engine, columns, storage_options, use_nullable_dtypes, **kwargs)\u001b[0m\n\u001b[1;32m    493\u001b[0m     \u001b[0mimpl\u001b[0m \u001b[0;34m=\u001b[0m \u001b[0mget_engine\u001b[0m\u001b[0;34m(\u001b[0m\u001b[0mengine\u001b[0m\u001b[0;34m)\u001b[0m\u001b[0;34m\u001b[0m\u001b[0;34m\u001b[0m\u001b[0m\n\u001b[1;32m    494\u001b[0m \u001b[0;34m\u001b[0m\u001b[0m\n\u001b[0;32m--> 495\u001b[0;31m     return impl.read(\n\u001b[0m\u001b[1;32m    496\u001b[0m         \u001b[0mpath\u001b[0m\u001b[0;34m,\u001b[0m\u001b[0;34m\u001b[0m\u001b[0;34m\u001b[0m\u001b[0m\n\u001b[1;32m    497\u001b[0m         \u001b[0mcolumns\u001b[0m\u001b[0;34m=\u001b[0m\u001b[0mcolumns\u001b[0m\u001b[0;34m,\u001b[0m\u001b[0;34m\u001b[0m\u001b[0;34m\u001b[0m\u001b[0m\n",
      "\u001b[0;32m~/.cache/pypoetry/virtualenvs/quantbob-Vnca5bs1-py3.8/lib/python3.8/site-packages/pandas/io/parquet.py\u001b[0m in \u001b[0;36mread\u001b[0;34m(self, path, columns, storage_options, **kwargs)\u001b[0m\n\u001b[1;32m    344\u001b[0m         \u001b[0mparquet_file\u001b[0m \u001b[0;34m=\u001b[0m \u001b[0mself\u001b[0m\u001b[0;34m.\u001b[0m\u001b[0mapi\u001b[0m\u001b[0;34m.\u001b[0m\u001b[0mParquetFile\u001b[0m\u001b[0;34m(\u001b[0m\u001b[0mpath\u001b[0m\u001b[0;34m,\u001b[0m \u001b[0;34m**\u001b[0m\u001b[0mparquet_kwargs\u001b[0m\u001b[0;34m)\u001b[0m\u001b[0;34m\u001b[0m\u001b[0;34m\u001b[0m\u001b[0m\n\u001b[1;32m    345\u001b[0m \u001b[0;34m\u001b[0m\u001b[0m\n\u001b[0;32m--> 346\u001b[0;31m         \u001b[0mresult\u001b[0m \u001b[0;34m=\u001b[0m \u001b[0mparquet_file\u001b[0m\u001b[0;34m.\u001b[0m\u001b[0mto_pandas\u001b[0m\u001b[0;34m(\u001b[0m\u001b[0mcolumns\u001b[0m\u001b[0;34m=\u001b[0m\u001b[0mcolumns\u001b[0m\u001b[0;34m,\u001b[0m \u001b[0;34m**\u001b[0m\u001b[0mkwargs\u001b[0m\u001b[0;34m)\u001b[0m\u001b[0;34m\u001b[0m\u001b[0;34m\u001b[0m\u001b[0m\n\u001b[0m\u001b[1;32m    347\u001b[0m \u001b[0;34m\u001b[0m\u001b[0m\n\u001b[1;32m    348\u001b[0m         \u001b[0;32mif\u001b[0m \u001b[0mhandles\u001b[0m \u001b[0;32mis\u001b[0m \u001b[0;32mnot\u001b[0m \u001b[0;32mNone\u001b[0m\u001b[0;34m:\u001b[0m\u001b[0;34m\u001b[0m\u001b[0;34m\u001b[0m\u001b[0m\n",
      "\u001b[0;32m~/.cache/pypoetry/virtualenvs/quantbob-Vnca5bs1-py3.8/lib/python3.8/site-packages/fastparquet/api.py\u001b[0m in \u001b[0;36mto_pandas\u001b[0;34m(self, columns, categories, filters, index, row_filter)\u001b[0m\n\u001b[1;32m    558\u001b[0m                             else v[start:start + thislen])\n\u001b[1;32m    559\u001b[0m                      for (name, v) in views.items()}\n\u001b[0;32m--> 560\u001b[0;31m             self.read_row_group_file(rg, columns, categories, index,\n\u001b[0m\u001b[1;32m    561\u001b[0m                                      \u001b[0massign\u001b[0m\u001b[0;34m=\u001b[0m\u001b[0mparts\u001b[0m\u001b[0;34m,\u001b[0m \u001b[0mpartition_meta\u001b[0m\u001b[0;34m=\u001b[0m\u001b[0mself\u001b[0m\u001b[0;34m.\u001b[0m\u001b[0mpartition_meta\u001b[0m\u001b[0;34m,\u001b[0m\u001b[0;34m\u001b[0m\u001b[0;34m\u001b[0m\u001b[0m\n\u001b[1;32m    562\u001b[0m                                      row_filter=sel, infile=infile)\n",
      "\u001b[0;32m~/.cache/pypoetry/virtualenvs/quantbob-Vnca5bs1-py3.8/lib/python3.8/site-packages/fastparquet/api.py\u001b[0m in \u001b[0;36mread_row_group_file\u001b[0;34m(self, rg, columns, categories, index, assign, partition_meta, row_filter, infile)\u001b[0m\n\u001b[1;32m    316\u001b[0m         \u001b[0mf\u001b[0m \u001b[0;34m=\u001b[0m \u001b[0minfile\u001b[0m \u001b[0;32mor\u001b[0m \u001b[0mself\u001b[0m\u001b[0;34m.\u001b[0m\u001b[0mopen\u001b[0m\u001b[0;34m(\u001b[0m\u001b[0mfn\u001b[0m\u001b[0;34m,\u001b[0m \u001b[0mmode\u001b[0m\u001b[0;34m=\u001b[0m\u001b[0;34m'rb'\u001b[0m\u001b[0;34m)\u001b[0m\u001b[0;34m\u001b[0m\u001b[0;34m\u001b[0m\u001b[0m\n\u001b[1;32m    317\u001b[0m \u001b[0;34m\u001b[0m\u001b[0m\n\u001b[0;32m--> 318\u001b[0;31m         core.read_row_group(\n\u001b[0m\u001b[1;32m    319\u001b[0m             \u001b[0mf\u001b[0m\u001b[0;34m,\u001b[0m \u001b[0mrg\u001b[0m\u001b[0;34m,\u001b[0m \u001b[0mcolumns\u001b[0m\u001b[0;34m,\u001b[0m \u001b[0mcategories\u001b[0m\u001b[0;34m,\u001b[0m \u001b[0mself\u001b[0m\u001b[0;34m.\u001b[0m\u001b[0mschema\u001b[0m\u001b[0;34m,\u001b[0m \u001b[0mself\u001b[0m\u001b[0;34m.\u001b[0m\u001b[0mcats\u001b[0m\u001b[0;34m,\u001b[0m\u001b[0;34m\u001b[0m\u001b[0;34m\u001b[0m\u001b[0m\n\u001b[1;32m    320\u001b[0m             \u001b[0mselfmade\u001b[0m\u001b[0;34m=\u001b[0m\u001b[0mself\u001b[0m\u001b[0;34m.\u001b[0m\u001b[0mselfmade\u001b[0m\u001b[0;34m,\u001b[0m \u001b[0mindex\u001b[0m\u001b[0;34m=\u001b[0m\u001b[0mindex\u001b[0m\u001b[0;34m,\u001b[0m\u001b[0;34m\u001b[0m\u001b[0;34m\u001b[0m\u001b[0m\n",
      "\u001b[0;32m~/.cache/pypoetry/virtualenvs/quantbob-Vnca5bs1-py3.8/lib/python3.8/site-packages/fastparquet/core.py\u001b[0m in \u001b[0;36mread_row_group\u001b[0;34m(file, rg, columns, categories, schema_helper, cats, selfmade, index, assign, scheme, partition_meta, row_filter)\u001b[0m\n\u001b[1;32m    605\u001b[0m     \u001b[0;32mif\u001b[0m \u001b[0massign\u001b[0m \u001b[0;32mis\u001b[0m \u001b[0;32mNone\u001b[0m\u001b[0;34m:\u001b[0m\u001b[0;34m\u001b[0m\u001b[0;34m\u001b[0m\u001b[0m\n\u001b[1;32m    606\u001b[0m         \u001b[0;32mraise\u001b[0m \u001b[0mRuntimeError\u001b[0m\u001b[0;34m(\u001b[0m\u001b[0;34m'Going with pre-allocation!'\u001b[0m\u001b[0;34m)\u001b[0m\u001b[0;34m\u001b[0m\u001b[0;34m\u001b[0m\u001b[0m\n\u001b[0;32m--> 607\u001b[0;31m     read_row_group_arrays(file, rg, columns, categories, schema_helper,\n\u001b[0m\u001b[1;32m    608\u001b[0m                           cats, selfmade, assign=assign, row_filter=row_filter)\n\u001b[1;32m    609\u001b[0m \u001b[0;34m\u001b[0m\u001b[0m\n",
      "\u001b[0;32m~/.cache/pypoetry/virtualenvs/quantbob-Vnca5bs1-py3.8/lib/python3.8/site-packages/fastparquet/core.py\u001b[0m in \u001b[0;36mread_row_group_arrays\u001b[0;34m(file, rg, columns, categories, schema_helper, cats, selfmade, assign, row_filter)\u001b[0m\n\u001b[1;32m    577\u001b[0m             \u001b[0;32mcontinue\u001b[0m\u001b[0;34m\u001b[0m\u001b[0;34m\u001b[0m\u001b[0m\n\u001b[1;32m    578\u001b[0m \u001b[0;34m\u001b[0m\u001b[0m\n\u001b[0;32m--> 579\u001b[0;31m         read_col(column, schema_helper, file, use_cat=name+'-catdef' in out,\n\u001b[0m\u001b[1;32m    580\u001b[0m                  \u001b[0mselfmade\u001b[0m\u001b[0;34m=\u001b[0m\u001b[0mselfmade\u001b[0m\u001b[0;34m,\u001b[0m \u001b[0massign\u001b[0m\u001b[0;34m=\u001b[0m\u001b[0mout\u001b[0m\u001b[0;34m[\u001b[0m\u001b[0mname\u001b[0m\u001b[0;34m]\u001b[0m\u001b[0;34m,\u001b[0m\u001b[0;34m\u001b[0m\u001b[0;34m\u001b[0m\u001b[0m\n\u001b[1;32m    581\u001b[0m                  \u001b[0mcatdef\u001b[0m\u001b[0;34m=\u001b[0m\u001b[0mout\u001b[0m\u001b[0;34m.\u001b[0m\u001b[0mget\u001b[0m\u001b[0;34m(\u001b[0m\u001b[0mname\u001b[0m\u001b[0;34m+\u001b[0m\u001b[0;34m'-catdef'\u001b[0m\u001b[0;34m,\u001b[0m \u001b[0;32mNone\u001b[0m\u001b[0;34m)\u001b[0m\u001b[0;34m,\u001b[0m\u001b[0;34m\u001b[0m\u001b[0;34m\u001b[0m\u001b[0m\n",
      "\u001b[0;32m~/.cache/pypoetry/virtualenvs/quantbob-Vnca5bs1-py3.8/lib/python3.8/site-packages/fastparquet/core.py\u001b[0m in \u001b[0;36mread_col\u001b[0;34m(column, schema_helper, infile, use_cat, selfmade, assign, catdef, row_filter)\u001b[0m\n\u001b[1;32m    547\u001b[0m                 \u001b[0mpiece\u001b[0m\u001b[0;34m[\u001b[0m\u001b[0;34m:\u001b[0m\u001b[0;34m]\u001b[0m \u001b[0;34m=\u001b[0m \u001b[0mi\u001b[0m\u001b[0;34m.\u001b[0m\u001b[0mcodes\u001b[0m\u001b[0;34m\u001b[0m\u001b[0;34m\u001b[0m\u001b[0m\n\u001b[1;32m    548\u001b[0m             \u001b[0;32melif\u001b[0m \u001b[0md\u001b[0m \u001b[0;32mand\u001b[0m \u001b[0;32mnot\u001b[0m \u001b[0muse_cat\u001b[0m\u001b[0;34m:\u001b[0m\u001b[0;34m\u001b[0m\u001b[0;34m\u001b[0m\u001b[0m\n\u001b[0;32m--> 549\u001b[0;31m                 \u001b[0mpiece\u001b[0m\u001b[0;34m[\u001b[0m\u001b[0;34m:\u001b[0m\u001b[0;34m]\u001b[0m \u001b[0;34m=\u001b[0m \u001b[0mdic\u001b[0m\u001b[0;34m[\u001b[0m\u001b[0mval\u001b[0m\u001b[0;34m]\u001b[0m\u001b[0;34m\u001b[0m\u001b[0;34m\u001b[0m\u001b[0m\n\u001b[0m\u001b[1;32m    550\u001b[0m             \u001b[0;32melif\u001b[0m \u001b[0;32mnot\u001b[0m \u001b[0muse_cat\u001b[0m\u001b[0;34m:\u001b[0m\u001b[0;34m\u001b[0m\u001b[0;34m\u001b[0m\u001b[0m\n\u001b[1;32m    551\u001b[0m                 \u001b[0mpiece\u001b[0m\u001b[0;34m[\u001b[0m\u001b[0;34m:\u001b[0m\u001b[0;34m]\u001b[0m \u001b[0;34m=\u001b[0m \u001b[0mconvert\u001b[0m\u001b[0;34m(\u001b[0m\u001b[0mval\u001b[0m\u001b[0;34m,\u001b[0m \u001b[0mse\u001b[0m\u001b[0;34m)\u001b[0m\u001b[0;34m\u001b[0m\u001b[0;34m\u001b[0m\u001b[0m\n",
      "\u001b[0;31mKeyboardInterrupt\u001b[0m: "
     ]
    },
    {
     "name": "stdout",
     "output_type": "stream",
     "text": []
    }
   ],
   "source": [
    "bob = QuantBob()\n",
    "bob"
   ]
  },
  {
   "cell_type": "code",
   "execution_count": null,
   "metadata": {
    "scrolled": true
   },
   "outputs": [],
   "source": [
    "#QuantBob().from_yamls(\"model_configs/\")"
   ]
  },
  {
   "cell_type": "code",
   "execution_count": null,
   "metadata": {},
   "outputs": [],
   "source": []
  },
  {
   "cell_type": "code",
   "execution_count": null,
   "metadata": {},
   "outputs": [],
   "source": []
  }
 ],
 "metadata": {
  "kernelspec": {
   "display_name": "Python 3 (ipykernel)",
   "language": "python",
   "name": "python3"
  },
  "language_info": {
   "codemirror_mode": {
    "name": "ipython",
    "version": 3
   },
   "file_extension": ".py",
   "mimetype": "text/x-python",
   "name": "python",
   "nbconvert_exporter": "python",
   "pygments_lexer": "ipython3",
   "version": "3.8.10"
  },
  "metadata": {
   "interpreter": {
    "hash": "9ef5bd674ac13bcc5849f620fc9bd56558be1075f555c658d4c84edc3e409827"
   }
  }
 },
 "nbformat": 4,
 "nbformat_minor": 2
}
